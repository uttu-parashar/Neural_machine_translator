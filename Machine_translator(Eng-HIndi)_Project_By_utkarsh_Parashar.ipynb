{
 "cells": [
  {
   "cell_type": "markdown",
   "metadata": {},
   "source": [
    "## <font color='red'>** In this Project our objective is to building a machine_translator ,Which can translate an English  Sentence to Hindi ** </font>"
   ]
  },
  {
   "cell_type": "markdown",
   "metadata": {},
   "source": [
    "<font color='red'>** Here We will Implement a Custon Endocer_Dedocder(Seq-2-Seq) Model to archive our goal. ** </font>"
   ]
  },
  {
   "cell_type": "code",
   "execution_count": null,
   "metadata": {},
   "outputs": [],
   "source": [
    "# importing Supporting Libraries\n",
    "import pandas as pd\n",
    "from tqdm.notebook import tqdm\n",
    "from random import sample\n",
    "import re\n",
    "import numpy as np\n",
    "import pandas as pd\n",
    "import numpy as np\n",
    "import tensorflow as tf\n",
    "from tensorflow.keras.preprocessing.text import Tokenizer\n",
    "from tensorflow.keras.preprocessing.sequence import pad_sequences\n",
    "import pandas as pd\n",
    "import re\n",
    "import tensorflow as tf\n",
    "from tensorflow.keras.layers import Embedding, LSTM, Dense\n",
    "from tensorflow.keras.models import Model\n",
    "import numpy as np"
   ]
  },
  {
   "cell_type": "code",
   "execution_count": 1,
   "metadata": {
    "colab": {
     "base_uri": "https://localhost:8080/"
    },
    "id": "pV0li3taAHLD",
    "outputId": "d2b282d6-f09b-467f-e1fe-85e178f0616d"
   },
   "outputs": [
    {
     "name": "stdout",
     "output_type": "stream",
     "text": [
      "Mounted at /content/drive\n"
     ]
    }
   ],
   "source": [
    "from google.colab import drive\n",
    "drive.mount('/content/drive')"
   ]
  },
  {
   "cell_type": "markdown",
   "metadata": {},
   "source": [
    "#### <font color='green'>** Introduction of the dataset, We will use : ** </font>"
   ]
  },
  {
   "cell_type": "markdown",
   "metadata": {},
   "source": [
    "We will use a Coupus published by IIT-Bombay. This corpus contains 1.6 Million santence pairs(Eng-Hindi) of both languages.The IIT Bombay English-Hindi corpus contains parallel corpus for English-Hindi as well as monolingual Hindi corpus collected from a variety of existing sources and corpora developed at the Center for Indian Language Technology, IIT Bombay over the years. This corpus has been used at the Workshop on Asian Language Translation Shared Task since 2016 the Hindi-to-English and English-to-Hindi languages pairs and as a pivot language pair for the Hindi-to-Japanese and Japanese-to-Hindi language pairs.\n",
    "To find more About the corpus ,Please go through the link given bellow :                        https://www.cfilt.iitb.ac.in/~parallelcorp/iitb_en_hi_parallel/"
   ]
  },
  {
   "cell_type": "markdown",
   "metadata": {},
   "source": [
    "After Unziping the initial Corpus i get two folders :\n",
    "    \n",
    "    1 - IITB.en-hi.en.txt (contains 1.6 million English Sentences.)\n",
    "    2 - IITB.en-hi.hi.txt (contains Hindi translation of each corresponding English Sentence.)"
   ]
  },
  {
   "cell_type": "markdown",
   "metadata": {},
   "source": [
    "##### <font color='purple'>** Reading the initial Text Files. ** </font>"
   ]
  },
  {
   "cell_type": "code",
   "execution_count": null,
   "metadata": {
    "colab": {
     "base_uri": "https://localhost:8080/"
    },
    "id": "LiqRVRzmFgJp",
    "outputId": "0aaa790e-ae13-41a3-a99b-33bf8e133e1d"
   },
   "outputs": [
    {
     "name": "stdout",
     "output_type": "stream",
     "text": [
      "We have  1609682 English Sentences In our english_corpus.\n"
     ]
    }
   ],
   "source": [
    "english_corpus = open(r\"/content/drive/MyDrive/1. My_folder/2. AI Projects./4. Machine Translation Project/IITB.en-hi.en.txt\", encoding= \"utf-8\")\n",
    "english_sentences = []\n",
    "for line in english_corpus:\n",
    "  english_sentences.append(line)\n",
    "print(\"We have \",len(english_sentences),\"English Sentences In our english_corpus.\")"
   ]
  },
  {
   "cell_type": "code",
   "execution_count": null,
   "metadata": {
    "colab": {
     "base_uri": "https://localhost:8080/"
    },
    "id": "28EArjs2G_RQ",
    "outputId": "9ad9ef96-963d-4583-88fb-44d30cf68a99"
   },
   "outputs": [
    {
     "name": "stdout",
     "output_type": "stream",
     "text": [
      "For Each English Sentence, We have corresponding 1609682 Hindi Sentences In our hindi_corpus.\n"
     ]
    }
   ],
   "source": [
    "hindi_corpus = open(r\"/content/drive/MyDrive/1. My_folder/2. AI Projects./4. Machine Translation Project/IITB.en-hi.hi.txt\", encoding= \"utf-8\")\n",
    "hindi_sentences = []\n",
    "for line in hindi_corpus:\n",
    "  hindi_sentences.append(line)\n",
    "print(\"For Each English Sentence, We have corresponding\",len(hindi_sentences),\"Hindi Sentences In our hindi_corpus.\")"
   ]
  },
  {
   "cell_type": "markdown",
   "metadata": {},
   "source": [
    "##### <font color='purple'>** Creating a Pandas Dataframe  ** </font>"
   ]
  },
  {
   "cell_type": "code",
   "execution_count": null,
   "metadata": {
    "colab": {
     "base_uri": "https://localhost:8080/",
     "height": 141
    },
    "id": "2KQPjsVLHWEq",
    "outputId": "df4ffa55-88b3-4bc9-e98d-186e7cff3f25"
   },
   "outputs": [
    {
     "data": {
      "text/html": [
       "<div>\n",
       "<style scoped>\n",
       "    .dataframe tbody tr th:only-of-type {\n",
       "        vertical-align: middle;\n",
       "    }\n",
       "\n",
       "    .dataframe tbody tr th {\n",
       "        vertical-align: top;\n",
       "    }\n",
       "\n",
       "    .dataframe thead th {\n",
       "        text-align: right;\n",
       "    }\n",
       "</style>\n",
       "<table border=\"1\" class=\"dataframe\">\n",
       "  <thead>\n",
       "    <tr style=\"text-align: right;\">\n",
       "      <th></th>\n",
       "      <th>eng_sentences</th>\n",
       "      <th>hin_sentences</th>\n",
       "    </tr>\n",
       "  </thead>\n",
       "  <tbody>\n",
       "    <tr>\n",
       "      <th>0</th>\n",
       "      <td>Give your application an accessibility workout\\n</td>\n",
       "      <td>अपने अनुप्रयोग को पहुंचनीयता व्यायाम का लाभ दें\\n</td>\n",
       "    </tr>\n",
       "    <tr>\n",
       "      <th>1</th>\n",
       "      <td>Accerciser Accessibility Explorer\\n</td>\n",
       "      <td>एक्सेर्साइसर पहुंचनीयता अन्वेषक\\n</td>\n",
       "    </tr>\n",
       "    <tr>\n",
       "      <th>2</th>\n",
       "      <td>The default plugin layout for the bottom panel\\n</td>\n",
       "      <td>निचले पटल के लिए डिफोल्ट प्लग-इन खाका\\n</td>\n",
       "    </tr>\n",
       "  </tbody>\n",
       "</table>\n",
       "</div>"
      ],
      "text/plain": [
       "                                      eng_sentences                                      hin_sentences\n",
       "0  Give your application an accessibility workout\\n  अपने अनुप्रयोग को पहुंचनीयता व्यायाम का लाभ दें\\n\n",
       "1               Accerciser Accessibility Explorer\\n                  एक्सेर्साइसर पहुंचनीयता अन्वेषक\\n\n",
       "2  The default plugin layout for the bottom panel\\n            निचले पटल के लिए डिफोल्ट प्लग-इन खाका\\n"
      ]
     },
     "execution_count": 5,
     "metadata": {
      "tags": []
     },
     "output_type": "execute_result"
    }
   ],
   "source": [
    "parell_dataset = pd.DataFrame()\n",
    "parell_dataset[\"eng_sentences\"] = english_sentences\n",
    "parell_dataset[\"hin_sentences\"] = hindi_sentences\n",
    "parell_dataset.head(3)"
   ]
  },
  {
   "cell_type": "markdown",
   "metadata": {},
   "source": [
    "##### <font color='purple'>** Taking 5 lac pairs of sentences Randomly. And Creating a small dataset,Which we will use to train our model.  ** </font>"
   ]
  },
  {
   "cell_type": "code",
   "execution_count": null,
   "metadata": {
    "colab": {
     "base_uri": "https://localhost:8080/",
     "height": 285,
     "referenced_widgets": [
      "8b69910c1e3948c5b2d5a37f71dd8e09",
      "7aaeb10466b3428cb50f32057be367c2",
      "28ddb8b5f3e947deaf8bfc2d9831010b",
      "6e4664d5de9644048ee31572f8c3b4bb",
      "62f365214fdf4ebdbb0cb6b843e16ada",
      "c8515851a1ee4ceeae6497ec93beb436",
      "37c459fec7e849a2b7f60a38b8fca797",
      "08e06420654b4b0291fbb3775fe8ed58"
     ]
    },
    "id": "nwravfo4UZwg",
    "outputId": "4778c98b-7cba-4df6-df9d-313d047d4141"
   },
   "outputs": [
    {
     "data": {
      "application/vnd.jupyter.widget-view+json": {
       "model_id": "8b69910c1e3948c5b2d5a37f71dd8e09",
       "version_major": 2,
       "version_minor": 0
      },
      "text/plain": [
       "HBox(children=(FloatProgress(value=0.0, max=500000.0), HTML(value='')))"
      ]
     },
     "metadata": {
      "tags": []
     },
     "output_type": "display_data"
    },
    {
     "name": "stdout",
     "output_type": "stream",
     "text": [
      "\n",
      "Now We have  500000 pair of english-Hindi sentences in our dataframe.\n",
      "------------------------------------------------------------\n"
     ]
    },
    {
     "data": {
      "text/html": [
       "<div>\n",
       "<style scoped>\n",
       "    .dataframe tbody tr th:only-of-type {\n",
       "        vertical-align: middle;\n",
       "    }\n",
       "\n",
       "    .dataframe tbody tr th {\n",
       "        vertical-align: top;\n",
       "    }\n",
       "\n",
       "    .dataframe thead th {\n",
       "        text-align: right;\n",
       "    }\n",
       "</style>\n",
       "<table border=\"1\" class=\"dataframe\">\n",
       "  <thead>\n",
       "    <tr style=\"text-align: right;\">\n",
       "      <th></th>\n",
       "      <th>eng_sentences</th>\n",
       "      <th>hin_sentences</th>\n",
       "    </tr>\n",
       "  </thead>\n",
       "  <tbody>\n",
       "    <tr>\n",
       "      <th>393227</th>\n",
       "      <td>Announce to the hypocrites that they shall hav...</td>\n",
       "      <td>मुनाफ़िको (कपटाचारियों) को मंगल-सूचना दे दो कि...</td>\n",
       "    </tr>\n",
       "    <tr>\n",
       "      <th>183336</th>\n",
       "      <td>Responsible for the nice application SVG Icon.\\n</td>\n",
       "      <td>अच्छे अनुप्रयोग एसवीजी प्रतीक हेतु उत्तरदायी. \\n</td>\n",
       "    </tr>\n",
       "    <tr>\n",
       "      <th>1579176</th>\n",
       "      <td>First meeting of Task Force was held on 4th De...</td>\n",
       "      <td>टास्क फोर्स की पहली बैठक 4 दिसंबर 2017 को हुई ...</td>\n",
       "    </tr>\n",
       "    <tr>\n",
       "      <th>860509</th>\n",
       "      <td>shenanigan\\n</td>\n",
       "      <td>नटखटपन\\n</td>\n",
       "    </tr>\n",
       "    <tr>\n",
       "      <th>322020</th>\n",
       "      <td>But if they wax proud (and persist in their at...</td>\n",
       "      <td>लेकिन यदि वे घमंड करें (और अल्लाह को याद न करे...</td>\n",
       "    </tr>\n",
       "  </tbody>\n",
       "</table>\n",
       "</div>"
      ],
      "text/plain": [
       "                                             eng_sentences                                      hin_sentences\n",
       "393227   Announce to the hypocrites that they shall hav...  मुनाफ़िको (कपटाचारियों) को मंगल-सूचना दे दो कि...\n",
       "183336    Responsible for the nice application SVG Icon.\\n   अच्छे अनुप्रयोग एसवीजी प्रतीक हेतु उत्तरदायी. \\n\n",
       "1579176  First meeting of Task Force was held on 4th De...  टास्क फोर्स की पहली बैठक 4 दिसंबर 2017 को हुई ...\n",
       "860509                                        shenanigan\\n                                           नटखटपन\\n\n",
       "322020   But if they wax proud (and persist in their at...  लेकिन यदि वे घमंड करें (और अल्लाह को याद न करे..."
      ]
     },
     "execution_count": 10,
     "metadata": {
      "tags": []
     },
     "output_type": "execute_result"
    }
   ],
   "source": [
    "indexex_of_all_points = list(range(len(parell_dataset)))\n",
    "subset_of_indexes = sample(indexex_of_all_points, 500000)\n",
    "hindi_eng_dataset = pd.DataFrame()\n",
    "for index in tqdm(subset_of_indexes):\n",
    "  hindi_eng_dataset = hindi_eng_dataset.append(parell_dataset.iloc[index])\n",
    "print(\"Now We have \",len(hindi_eng_dataset),\"pair of english-Hindi sentences in our dataframe.\")\n",
    "print(\"-\"*60)\n",
    "hindi_eng_dataset.head()"
   ]
  },
  {
   "cell_type": "markdown",
   "metadata": {
    "id": "Uxtdzr-hUyUK"
   },
   "source": [
    "##### <font color='purple'>** Saving Dataset in Memory.  ** </font>"
   ]
  },
  {
   "cell_type": "code",
   "execution_count": null,
   "metadata": {
    "id": "r2ZB0uqwKaPg"
   },
   "outputs": [],
   "source": [
    "hindi_eng_dataset.to_csv(\"hindi_eng_dataset.csv\",index = False)"
   ]
  },
  {
   "cell_type": "code",
   "execution_count": null,
   "metadata": {
    "id": "PCUK2JNCNW-b"
   },
   "outputs": [],
   "source": [
    "!cp \"/content/hindi_eng_dataset.csv\" \"/content/drive/MyDrive/1. My_folder/2. AI Projects./4. Machine Translation Project\""
   ]
  },
  {
   "cell_type": "markdown",
   "metadata": {
    "colab": {
     "base_uri": "https://localhost:8080/"
    },
    "id": "L8qzUMKbNXKv",
    "outputId": "ab5e6619-ef74-467c-89d5-243461dc38e7"
   },
   "source": [
    "##### <font color='purple'>** Reading the dataset for Preprocessing and some Data analysis.  ** </font>"
   ]
  },
  {
   "cell_type": "code",
   "execution_count": null,
   "metadata": {
    "colab": {
     "base_uri": "https://localhost:8080/",
     "height": 238
    },
    "id": "Hm1fI0wmrP5m",
    "outputId": "49b0c40f-5529-40cd-fe0c-ff72ff4b9bc4"
   },
   "outputs": [
    {
     "name": "stdout",
     "output_type": "stream",
     "text": [
      "Now We have  1000 pair of english-Hindi sentences in our dataframe.\n",
      "------------------------------------------------------------\n"
     ]
    },
    {
     "data": {
      "text/html": [
       "<div>\n",
       "<style scoped>\n",
       "    .dataframe tbody tr th:only-of-type {\n",
       "        vertical-align: middle;\n",
       "    }\n",
       "\n",
       "    .dataframe tbody tr th {\n",
       "        vertical-align: top;\n",
       "    }\n",
       "\n",
       "    .dataframe thead th {\n",
       "        text-align: right;\n",
       "    }\n",
       "</style>\n",
       "<table border=\"1\" class=\"dataframe\">\n",
       "  <thead>\n",
       "    <tr style=\"text-align: right;\">\n",
       "      <th></th>\n",
       "      <th>eng_sentences</th>\n",
       "      <th>hin_sentences</th>\n",
       "    </tr>\n",
       "  </thead>\n",
       "  <tbody>\n",
       "    <tr>\n",
       "      <th>0</th>\n",
       "      <td>Announce to the hypocrites that they shall hav...</td>\n",
       "      <td>मुनाफ़िको (कपटाचारियों) को मंगल-सूचना दे दो कि...</td>\n",
       "    </tr>\n",
       "    <tr>\n",
       "      <th>1</th>\n",
       "      <td>Responsible for the nice application SVG Icon.\\n</td>\n",
       "      <td>अच्छे अनुप्रयोग एसवीजी प्रतीक हेतु उत्तरदायी. \\n</td>\n",
       "    </tr>\n",
       "    <tr>\n",
       "      <th>2</th>\n",
       "      <td>First meeting of Task Force was held on 4th De...</td>\n",
       "      <td>टास्क फोर्स की पहली बैठक 4 दिसंबर 2017 को हुई ...</td>\n",
       "    </tr>\n",
       "    <tr>\n",
       "      <th>3</th>\n",
       "      <td>shenanigan\\n</td>\n",
       "      <td>नटखटपन\\n</td>\n",
       "    </tr>\n",
       "    <tr>\n",
       "      <th>4</th>\n",
       "      <td>But if they wax proud (and persist in their at...</td>\n",
       "      <td>लेकिन यदि वे घमंड करें (और अल्लाह को याद न करे...</td>\n",
       "    </tr>\n",
       "  </tbody>\n",
       "</table>\n",
       "</div>"
      ],
      "text/plain": [
       "                                       eng_sentences                                      hin_sentences\n",
       "0  Announce to the hypocrites that they shall hav...  मुनाफ़िको (कपटाचारियों) को मंगल-सूचना दे दो कि...\n",
       "1   Responsible for the nice application SVG Icon.\\n   अच्छे अनुप्रयोग एसवीजी प्रतीक हेतु उत्तरदायी. \\n\n",
       "2  First meeting of Task Force was held on 4th De...  टास्क फोर्स की पहली बैठक 4 दिसंबर 2017 को हुई ...\n",
       "3                                       shenanigan\\n                                           नटखटपन\\n\n",
       "4  But if they wax proud (and persist in their at...  लेकिन यदि वे घमंड करें (और अल्लाह को याद न करे..."
      ]
     },
     "execution_count": 3,
     "metadata": {
      "tags": []
     },
     "output_type": "execute_result"
    }
   ],
   "source": [
    "hindi_eng_dataset = pd.read_csv(r\"/content/drive/MyDrive/1. My_folder/2. AI Projects./4. Machine Translation Project/hindi_eng_dataset.csv\")\n",
    "print(\"Now We have \",len(hindi_eng_dataset),\"pair of english-Hindi sentences in our dataframe.\")\n",
    "print(\"-\"*60)\n",
    "hindi_eng_dataset.head()"
   ]
  },
  {
   "cell_type": "code",
   "execution_count": null,
   "metadata": {
    "colab": {
     "base_uri": "https://localhost:8080/"
    },
    "id": "pSoenOOJEOCX",
    "outputId": "8d0ca880-685f-4cfd-bd7d-62004ffe856c"
   },
   "outputs": [
    {
     "name": "stdout",
     "output_type": "stream",
     "text": [
      "<class 'pandas.core.frame.DataFrame'>\n",
      "RangeIndex: 500000 entries, 0 to 499999\n",
      "Data columns (total 2 columns):\n",
      " #   Column         Non-Null Count   Dtype \n",
      "---  ------         --------------   ----- \n",
      " 0   eng_sentences  500000 non-null  object\n",
      " 1   hin_sentences  500000 non-null  object\n",
      "dtypes: object(2)\n",
      "memory usage: 7.6+ MB\n"
     ]
    }
   ],
   "source": [
    "hindi_eng_dataset.info()"
   ]
  },
  {
   "cell_type": "code",
   "execution_count": null,
   "metadata": {
    "id": "U6bZTRPnA-5T"
   },
   "outputs": [],
   "source": [
    "def decontractions(phrase):\n",
    "    \"\"\"decontracted takes text and convert contractions into natural form.\n",
    "     ref: https://stackoverflow.com/questions/19790188/expanding-english-language-contractions-in-python/47091490#47091490\"\"\"\n",
    "    phrase = re.sub(r\"won\\'t\", \"will not\", phrase)\n",
    "    phrase = re.sub(r\"can\\'t\", \"can not\", phrase)\n",
    "    phrase = re.sub(r\"won\\’t\", \"will not\", phrase)\n",
    "    phrase = re.sub(r\"can\\’t\", \"can not\", phrase)\n",
    "\n",
    "    # general\n",
    "    phrase = re.sub(r\"n\\'t\", \" not\", phrase)\n",
    "    phrase = re.sub(r\"\\'re\", \" are\", phrase)\n",
    "    phrase = re.sub(r\"\\'s\", \" is\", phrase)\n",
    "    phrase = re.sub(r\"\\'d\", \" would\", phrase)\n",
    "    phrase = re.sub(r\"\\'ll\", \" will\", phrase)\n",
    "    phrase = re.sub(r\"\\'t\", \" not\", phrase)\n",
    "    phrase = re.sub(r\"\\'ve\", \" have\", phrase)\n",
    "    phrase = re.sub(r\"\\'m\", \" am\", phrase)\n",
    "\n",
    "    phrase = re.sub(r\"n\\’t\", \" not\", phrase)\n",
    "    phrase = re.sub(r\"\\’re\", \" are\", phrase)\n",
    "    phrase = re.sub(r\"\\’s\", \" is\", phrase)\n",
    "    phrase = re.sub(r\"\\’d\", \" would\", phrase)\n",
    "    phrase = re.sub(r\"\\’ll\", \" will\", phrase)\n",
    "    phrase = re.sub(r\"\\’t\", \" not\", phrase)\n",
    "    phrase = re.sub(r\"\\’ve\", \" have\", phrase)\n",
    "    phrase = re.sub(r\"\\’m\", \" am\", phrase)\n",
    "\n",
    "    return phrase\n",
    "\n",
    "def preprocess(text):\n",
    "    text = text.lower()\n",
    "    text = decontractions(text)\n",
    "    text = re.sub('[^A-Za-z0-9 ]+', '', text)\n",
    "    return text\n",
    "\n",
    "def preprocess_hin(text):\n",
    "    text = text.lower()\n",
    "    text = decontractions(text)\n",
    "    text = text.strip('\\n')\n",
    "    return text"
   ]
  },
  {
   "cell_type": "code",
   "execution_count": null,
   "metadata": {
    "colab": {
     "base_uri": "https://localhost:8080/",
     "height": 202
    },
    "id": "25wu1sAlA-8L",
    "outputId": "42509587-3d53-43b1-c202-475a832d537f"
   },
   "outputs": [
    {
     "data": {
      "text/html": [
       "<div>\n",
       "<style scoped>\n",
       "    .dataframe tbody tr th:only-of-type {\n",
       "        vertical-align: middle;\n",
       "    }\n",
       "\n",
       "    .dataframe tbody tr th {\n",
       "        vertical-align: top;\n",
       "    }\n",
       "\n",
       "    .dataframe thead th {\n",
       "        text-align: right;\n",
       "    }\n",
       "</style>\n",
       "<table border=\"1\" class=\"dataframe\">\n",
       "  <thead>\n",
       "    <tr style=\"text-align: right;\">\n",
       "      <th></th>\n",
       "      <th>eng_sentences</th>\n",
       "      <th>hin_sentences</th>\n",
       "    </tr>\n",
       "  </thead>\n",
       "  <tbody>\n",
       "    <tr>\n",
       "      <th>0</th>\n",
       "      <td>announce to the hypocrites that they shall hav...</td>\n",
       "      <td>मुनाफ़िको (कपटाचारियों) को मंगल-सूचना दे दो कि...</td>\n",
       "    </tr>\n",
       "    <tr>\n",
       "      <th>1</th>\n",
       "      <td>responsible for the nice application svg icon</td>\n",
       "      <td>अच्छे अनुप्रयोग एसवीजी प्रतीक हेतु उत्तरदायी.</td>\n",
       "    </tr>\n",
       "    <tr>\n",
       "      <th>2</th>\n",
       "      <td>first meeting of task force was held on 4th de...</td>\n",
       "      <td>टास्क फोर्स की पहली बैठक 4 दिसंबर 2017 को हुई थी।</td>\n",
       "    </tr>\n",
       "    <tr>\n",
       "      <th>3</th>\n",
       "      <td>shenanigan</td>\n",
       "      <td>नटखटपन</td>\n",
       "    </tr>\n",
       "    <tr>\n",
       "      <th>4</th>\n",
       "      <td>but if they wax proud and persist in their att...</td>\n",
       "      <td>लेकिन यदि वे घमंड करें (और अल्लाह को याद न करे...</td>\n",
       "    </tr>\n",
       "  </tbody>\n",
       "</table>\n",
       "</div>"
      ],
      "text/plain": [
       "                                       eng_sentences                                      hin_sentences\n",
       "0  announce to the hypocrites that they shall hav...  मुनाफ़िको (कपटाचारियों) को मंगल-सूचना दे दो कि...\n",
       "1      responsible for the nice application svg icon     अच्छे अनुप्रयोग एसवीजी प्रतीक हेतु उत्तरदायी. \n",
       "2  first meeting of task force was held on 4th de...  टास्क फोर्स की पहली बैठक 4 दिसंबर 2017 को हुई थी।\n",
       "3                                         shenanigan                                             नटखटपन\n",
       "4  but if they wax proud and persist in their att...  लेकिन यदि वे घमंड करें (और अल्लाह को याद न करे..."
      ]
     },
     "execution_count": 49,
     "metadata": {
      "tags": []
     },
     "output_type": "execute_result"
    }
   ],
   "source": [
    "hindi_eng_dataset['eng_sentences'] = hindi_eng_dataset['eng_sentences'].apply(preprocess)\n",
    "hindi_eng_dataset['hin_sentences'] = hindi_eng_dataset['hin_sentences'].apply(preprocess_hin)\n",
    "hindi_eng_dataset.head()"
   ]
  },
  {
   "cell_type": "code",
   "execution_count": null,
   "metadata": {
    "colab": {
     "base_uri": "https://localhost:8080/"
    },
    "id": "2IwUUcSzA-_J",
    "outputId": "beeae5a6-cc45-4f0b-a551-75a8d3028f9f"
   },
   "outputs": [
    {
     "name": "stdout",
     "output_type": "stream",
     "text": [
      "50th percentile Value of all lengths of headline is : 8.0\n",
      "90th percentile Value of all lengths of headline is : 30.0\n",
      "95th percentile Value of all lengths of headline is : 39.0\n",
      "99th percentile Value of all lengths of headline is : 68.0\n",
      "99.9th percentile Value of all lengths of headline is : 129.0\n",
      "99.99th percentile Value of all lengths of headline is : 196.0\n",
      "100th percentile Value of all lengths of headline is : 653.0\n"
     ]
    }
   ],
   "source": [
    "lengths_of_english_sentences = [len(sentence.split()) for sentence in hindi_eng_dataset[\"eng_sentences\"].values]\n",
    "print(\"50th percentile Value of all lengths of headline is :\",np.percentile(lengths_of_english_sentences, 50))\n",
    "print(\"90th percentile Value of all lengths of headline is :\",np.percentile(lengths_of_english_sentences, 90))\n",
    "print(\"95th percentile Value of all lengths of headline is :\",np.percentile(lengths_of_english_sentences, 95))\n",
    "print(\"99th percentile Value of all lengths of headline is :\",np.percentile(lengths_of_english_sentences, 99))\n",
    "print(\"99.9th percentile Value of all lengths of headline is :\",np.percentile(lengths_of_english_sentences, 99.9))\n",
    "print(\"99.99th percentile Value of all lengths of headline is :\",np.percentile(lengths_of_english_sentences, 99.99))\n",
    "print(\"100th percentile Value of all lengths of headline is :\",np.percentile(lengths_of_english_sentences, 100))"
   ]
  },
  {
   "cell_type": "code",
   "execution_count": null,
   "metadata": {
    "colab": {
     "base_uri": "https://localhost:8080/"
    },
    "id": "I-8fhsxWA_Cn",
    "outputId": "c1278ff6-24f0-46bc-938e-46c0133f3075"
   },
   "outputs": [
    {
     "name": "stdout",
     "output_type": "stream",
     "text": [
      "50th percentile Value of all lengths of headline is : 9.0\n",
      "90th percentile Value of all lengths of headline is : 33.0\n",
      "95th percentile Value of all lengths of headline is : 44.0\n",
      "99th percentile Value of all lengths of headline is : 77.0\n",
      "99.9th percentile Value of all lengths of headline is : 142.0010000000475\n",
      "99.99th percentile Value of all lengths of headline is : 212.0\n",
      "100th percentile Value of all lengths of headline is : 695.0\n"
     ]
    }
   ],
   "source": [
    "lengths_of_hindi_sentences = [len(sentence.split()) for sentence in hindi_eng_dataset[\"hin_sentences\"].values]\n",
    "print(\"50th percentile Value of all lengths of headline is :\",np.percentile(lengths_of_hindi_sentences, 50))\n",
    "print(\"90th percentile Value of all lengths of headline is :\",np.percentile(lengths_of_hindi_sentences, 90))\n",
    "print(\"95th percentile Value of all lengths of headline is :\",np.percentile(lengths_of_hindi_sentences, 95))\n",
    "print(\"99th percentile Value of all lengths of headline is :\",np.percentile(lengths_of_hindi_sentences, 99))\n",
    "print(\"99.9th percentile Value of all lengths of headline is :\",np.percentile(lengths_of_hindi_sentences, 99.9))\n",
    "print(\"99.99th percentile Value of all lengths of headline is :\",np.percentile(lengths_of_hindi_sentences, 99.99))\n",
    "print(\"100th percentile Value of all lengths of headline is :\",np.percentile(lengths_of_hindi_sentences, 100))"
   ]
  },
  {
   "cell_type": "markdown",
   "metadata": {},
   "source": [
    "##### <font color='purple'>** Transforming data in a specific form, which my model takes : ** </font>"
   ]
  },
  {
   "cell_type": "code",
   "execution_count": null,
   "metadata": {
    "colab": {
     "base_uri": "https://localhost:8080/",
     "height": 171
    },
    "id": "sij8izJOA_Fv",
    "outputId": "308b93b4-49d7-4868-e4c3-8e1eaf1b597b"
   },
   "outputs": [
    {
     "data": {
      "text/html": [
       "<div>\n",
       "<style scoped>\n",
       "    .dataframe tbody tr th:only-of-type {\n",
       "        vertical-align: middle;\n",
       "    }\n",
       "\n",
       "    .dataframe tbody tr th {\n",
       "        vertical-align: top;\n",
       "    }\n",
       "\n",
       "    .dataframe thead th {\n",
       "        text-align: right;\n",
       "    }\n",
       "</style>\n",
       "<table border=\"1\" class=\"dataframe\">\n",
       "  <thead>\n",
       "    <tr style=\"text-align: right;\">\n",
       "      <th></th>\n",
       "      <th>eng_sentences</th>\n",
       "      <th>hindi_inp</th>\n",
       "      <th>hindi_out</th>\n",
       "    </tr>\n",
       "  </thead>\n",
       "  <tbody>\n",
       "    <tr>\n",
       "      <th>0</th>\n",
       "      <td>announce to the hypocrites that they shall hav...</td>\n",
       "      <td>&lt;start&gt; मुनाफ़िको (कपटाचारियों) को मंगल-सूचना ...</td>\n",
       "      <td>मुनाफ़िको (कपटाचारियों) को मंगल-सूचना दे दो कि...</td>\n",
       "    </tr>\n",
       "    <tr>\n",
       "      <th>1</th>\n",
       "      <td>responsible for the nice application svg icon</td>\n",
       "      <td>&lt;start&gt; अच्छे अनुप्रयोग एसवीजी प्रतीक हेतु उत्...</td>\n",
       "      <td>अच्छे अनुप्रयोग एसवीजी प्रतीक हेतु उत्तरदायी. ...</td>\n",
       "    </tr>\n",
       "    <tr>\n",
       "      <th>2</th>\n",
       "      <td>first meeting of task force was held on 4th de...</td>\n",
       "      <td>&lt;start&gt; टास्क फोर्स की पहली बैठक 4 दिसंबर 2017...</td>\n",
       "      <td>टास्क फोर्स की पहली बैठक 4 दिसंबर 2017 को हुई ...</td>\n",
       "    </tr>\n",
       "    <tr>\n",
       "      <th>3</th>\n",
       "      <td>shenanigan</td>\n",
       "      <td>&lt;start&gt; नटखटपन</td>\n",
       "      <td>नटखटपन &lt;end&gt;</td>\n",
       "    </tr>\n",
       "  </tbody>\n",
       "</table>\n",
       "</div>"
      ],
      "text/plain": [
       "                                       eng_sentences  ...                                          hindi_out\n",
       "0  announce to the hypocrites that they shall hav...  ...  मुनाफ़िको (कपटाचारियों) को मंगल-सूचना दे दो कि...\n",
       "1      responsible for the nice application svg icon  ...  अच्छे अनुप्रयोग एसवीजी प्रतीक हेतु उत्तरदायी. ...\n",
       "2  first meeting of task force was held on 4th de...  ...  टास्क फोर्स की पहली बैठक 4 दिसंबर 2017 को हुई ...\n",
       "3                                         shenanigan  ...                                       नटखटपन <end>\n",
       "\n",
       "[4 rows x 3 columns]"
      ]
     },
     "execution_count": 52,
     "metadata": {
      "tags": []
     },
     "output_type": "execute_result"
    }
   ],
   "source": [
    "hindi_eng_dataset['hindi_inp'] = '<start> ' + hindi_eng_dataset['hin_sentences'].astype(str)\n",
    "hindi_eng_dataset['hindi_out'] = hindi_eng_dataset['hin_sentences'].astype(str) + ' <end>'\n",
    "hindi_eng_dataset = hindi_eng_dataset.drop(['hin_sentences'], axis=1)\n",
    "hindi_eng_dataset.head(4)"
   ]
  },
  {
   "cell_type": "code",
   "execution_count": null,
   "metadata": {
    "colab": {
     "base_uri": "https://localhost:8080/"
    },
    "id": "_Lc4hTWDA_Io",
    "outputId": "56f2b5bb-d130-4591-da8c-1b69c78cdb48"
   },
   "outputs": [
    {
     "name": "stdout",
     "output_type": "stream",
     "text": [
      "One sample English Sentence is :\n",
      " he concluded his thesis with the following words\n",
      "------------------------------------------------------------\n",
      "Corresponding Hindi Sentence for input is :\n",
      " <start> अपना प्रबन्ध उनहोंने निम्नांकित शब्दों में समाप्त किया: \n",
      "------------------------------------------------------------\n",
      "Corresponding Hindi Sentence for output is :\n",
      " अपना प्रबन्ध उनहोंने निम्नांकित शब्दों में समाप्त किया:  <end>\n"
     ]
    }
   ],
   "source": [
    "print(\"One sample English Sentence is :\\n\",hindi_eng_dataset.loc[23565][\"eng_sentences\"])\n",
    "print(\"-\"*60)\n",
    "print(\"Corresponding Hindi Sentence for input is :\\n\",hindi_eng_dataset.loc[23565][\"hindi_inp\"])\n",
    "print(\"-\"*60)\n",
    "print(\"Corresponding Hindi Sentence for output is :\\n\",hindi_eng_dataset.loc[23565][\"hindi_out\"])"
   ]
  },
  {
   "cell_type": "code",
   "execution_count": null,
   "metadata": {
    "colab": {
     "base_uri": "https://localhost:8080/"
    },
    "id": "N1tdGbUsEmwV",
    "outputId": "79ae2ee0-338d-472a-a977-6ae040a45801"
   },
   "outputs": [
    {
     "name": "stdout",
     "output_type": "stream",
     "text": [
      "<class 'pandas.core.frame.DataFrame'>\n",
      "RangeIndex: 500000 entries, 0 to 499999\n",
      "Data columns (total 3 columns):\n",
      " #   Column         Non-Null Count   Dtype \n",
      "---  ------         --------------   ----- \n",
      " 0   eng_sentences  500000 non-null  object\n",
      " 1   hindi_inp      500000 non-null  object\n",
      " 2   hindi_out      500000 non-null  object\n",
      "dtypes: object(3)\n",
      "memory usage: 11.4+ MB\n"
     ]
    }
   ],
   "source": [
    "hindi_eng_dataset.info()"
   ]
  },
  {
   "cell_type": "markdown",
   "metadata": {
    "id": "ZFSVMaJPEskZ"
   },
   "source": [
    "##### <font color='purple'>** Saving Dataset in my Memory.  ** </font>"
   ]
  },
  {
   "cell_type": "code",
   "execution_count": null,
   "metadata": {
    "id": "pKRuS0PAA_Lw"
   },
   "outputs": [],
   "source": [
    "hindi_eng_dataset.to_csv(\"hindi_eng_dataset_preprocessed_sample.csv\",index= False)"
   ]
  },
  {
   "cell_type": "code",
   "execution_count": null,
   "metadata": {
    "id": "NtVDACzhA_Op"
   },
   "outputs": [],
   "source": [
    "!cp \"/content/hindi_eng_dataset_preprocessed_sample.csv\" \"/content/drive/MyDrive/1. My_folder/2. AI Projects./4. Machine Translation Project\""
   ]
  },
  {
   "cell_type": "markdown",
   "metadata": {
    "id": "-dQonEm7Bx3h"
   },
   "source": [
    "##### <font color='purple'>** Loading Basic Preprocessed Data, also reducing the size of dataset because traing model with 5 Lac points was becoming hard : ** </font>"
   ]
  },
  {
   "cell_type": "code",
   "execution_count": 3,
   "metadata": {
    "colab": {
     "base_uri": "https://localhost:8080/",
     "height": 208
    },
    "id": "DbvF_qF9A_Ua",
    "outputId": "33365fec-493f-4d84-806f-a62c9b59d1ef"
   },
   "outputs": [
    {
     "name": "stdout",
     "output_type": "stream",
     "text": [
      "Shape of data is : (250000, 3)\n",
      "------------------------------------------------------------\n"
     ]
    },
    {
     "data": {
      "text/html": [
       "<div>\n",
       "<style scoped>\n",
       "    .dataframe tbody tr th:only-of-type {\n",
       "        vertical-align: middle;\n",
       "    }\n",
       "\n",
       "    .dataframe tbody tr th {\n",
       "        vertical-align: top;\n",
       "    }\n",
       "\n",
       "    .dataframe thead th {\n",
       "        text-align: right;\n",
       "    }\n",
       "</style>\n",
       "<table border=\"1\" class=\"dataframe\">\n",
       "  <thead>\n",
       "    <tr style=\"text-align: right;\">\n",
       "      <th></th>\n",
       "      <th>eng_sentences</th>\n",
       "      <th>hindi_inp</th>\n",
       "      <th>hindi_out</th>\n",
       "    </tr>\n",
       "  </thead>\n",
       "  <tbody>\n",
       "    <tr>\n",
       "      <th>0</th>\n",
       "      <td>announce to the hypocrites that they shall hav...</td>\n",
       "      <td>&lt;start&gt; मुनाफ़िको (कपटाचारियों) को मंगल-सूचना ...</td>\n",
       "      <td>मुनाफ़िको (कपटाचारियों) को मंगल-सूचना दे दो कि...</td>\n",
       "    </tr>\n",
       "    <tr>\n",
       "      <th>1</th>\n",
       "      <td>responsible for the nice application svg icon</td>\n",
       "      <td>&lt;start&gt; अच्छे अनुप्रयोग एसवीजी प्रतीक हेतु उत्...</td>\n",
       "      <td>अच्छे अनुप्रयोग एसवीजी प्रतीक हेतु उत्तरदायी. ...</td>\n",
       "    </tr>\n",
       "    <tr>\n",
       "      <th>2</th>\n",
       "      <td>first meeting of task force was held on 4th de...</td>\n",
       "      <td>&lt;start&gt; टास्क फोर्स की पहली बैठक 4 दिसंबर 2017...</td>\n",
       "      <td>टास्क फोर्स की पहली बैठक 4 दिसंबर 2017 को हुई ...</td>\n",
       "    </tr>\n",
       "    <tr>\n",
       "      <th>3</th>\n",
       "      <td>shenanigan</td>\n",
       "      <td>&lt;start&gt; नटखटपन</td>\n",
       "      <td>नटखटपन &lt;end&gt;</td>\n",
       "    </tr>\n",
       "  </tbody>\n",
       "</table>\n",
       "</div>"
      ],
      "text/plain": [
       "                                       eng_sentences  ...                                          hindi_out\n",
       "0  announce to the hypocrites that they shall hav...  ...  मुनाफ़िको (कपटाचारियों) को मंगल-सूचना दे दो कि...\n",
       "1      responsible for the nice application svg icon  ...  अच्छे अनुप्रयोग एसवीजी प्रतीक हेतु उत्तरदायी. ...\n",
       "2  first meeting of task force was held on 4th de...  ...  टास्क फोर्स की पहली बैठक 4 दिसंबर 2017 को हुई ...\n",
       "3                                         shenanigan  ...                                       नटखटपन <end>\n",
       "\n",
       "[4 rows x 3 columns]"
      ]
     },
     "execution_count": 3,
     "metadata": {
      "tags": []
     },
     "output_type": "execute_result"
    }
   ],
   "source": [
    "import pandas as pd\n",
    "hindi_eng_dataset_preprocessed_sample = pd.read_csv(\"/content/drive/MyDrive/Machine_translation_Project/4. Machine Translation Project/hindi_eng_dataset_preprocessed_sample.csv\",nrows = 250000)\n",
    "print(\"Shape of data is :\",hindi_eng_dataset_preprocessed_sample.shape)\n",
    "print(\"-\"*60)\n",
    "hindi_eng_dataset_preprocessed_sample.head(4)"
   ]
  },
  {
   "cell_type": "markdown",
   "metadata": {},
   "source": [
    "##### <font color='purple'>** Checking null Values,And dropping those rows. ** </font>"
   ]
  },
  {
   "cell_type": "code",
   "execution_count": 4,
   "metadata": {
    "colab": {
     "base_uri": "https://localhost:8080/"
    },
    "id": "jpuypKnsE3j6",
    "outputId": "5656f66a-cc5f-41b9-da79-d5ffff7e6c19"
   },
   "outputs": [
    {
     "name": "stdout",
     "output_type": "stream",
     "text": [
      "<class 'pandas.core.frame.DataFrame'>\n",
      "RangeIndex: 250000 entries, 0 to 249999\n",
      "Data columns (total 3 columns):\n",
      " #   Column         Non-Null Count   Dtype \n",
      "---  ------         --------------   ----- \n",
      " 0   eng_sentences  249853 non-null  object\n",
      " 1   hindi_inp      250000 non-null  object\n",
      " 2   hindi_out      250000 non-null  object\n",
      "dtypes: object(3)\n",
      "memory usage: 5.7+ MB\n"
     ]
    }
   ],
   "source": [
    "hindi_eng_dataset_preprocessed_sample.info()"
   ]
  },
  {
   "cell_type": "code",
   "execution_count": 5,
   "metadata": {
    "colab": {
     "base_uri": "https://localhost:8080/"
    },
    "id": "YtUvXCOZE_VZ",
    "outputId": "61bd3794-784d-48a9-e67a-07ffb69e51bb"
   },
   "outputs": [
    {
     "data": {
      "text/plain": [
       "eng_sentences    147\n",
       "hindi_inp          0\n",
       "hindi_out          0\n",
       "dtype: int64"
      ]
     },
     "execution_count": 5,
     "metadata": {
      "tags": []
     },
     "output_type": "execute_result"
    }
   ],
   "source": [
    "hindi_eng_dataset_preprocessed_sample.isnull().sum(axis = 0)"
   ]
  },
  {
   "cell_type": "code",
   "execution_count": 6,
   "metadata": {
    "colab": {
     "base_uri": "https://localhost:8080/"
    },
    "id": "0Z57leePFDDR",
    "outputId": "ed4fe455-7fce-470e-bcc2-15ed1104c772"
   },
   "outputs": [
    {
     "name": "stdout",
     "output_type": "stream",
     "text": [
      "<class 'pandas.core.frame.DataFrame'>\n",
      "Int64Index: 249853 entries, 0 to 249999\n",
      "Data columns (total 3 columns):\n",
      " #   Column         Non-Null Count   Dtype \n",
      "---  ------         --------------   ----- \n",
      " 0   eng_sentences  249853 non-null  object\n",
      " 1   hindi_inp      249853 non-null  object\n",
      " 2   hindi_out      249853 non-null  object\n",
      "dtypes: object(3)\n",
      "memory usage: 7.6+ MB\n"
     ]
    }
   ],
   "source": [
    "hindi_eng_dataset_preprocessed_sample  = hindi_eng_dataset_preprocessed_sample.dropna()\n",
    "hindi_eng_dataset_preprocessed_sample.info()"
   ]
  },
  {
   "cell_type": "code",
   "execution_count": 7,
   "metadata": {
    "colab": {
     "base_uri": "https://localhost:8080/"
    },
    "id": "o7DejTrtFRZ0",
    "outputId": "30a5ec3b-af54-4239-e793-afd18ee5e40c"
   },
   "outputs": [
    {
     "data": {
      "text/plain": [
       "eng_sentences    0\n",
       "hindi_inp        0\n",
       "hindi_out        0\n",
       "dtype: int64"
      ]
     },
     "execution_count": 7,
     "metadata": {
      "tags": []
     },
     "output_type": "execute_result"
    }
   ],
   "source": [
    "hindi_eng_dataset_preprocessed_sample.isnull().sum(axis = 0)"
   ]
  },
  {
   "cell_type": "markdown",
   "metadata": {},
   "source": [
    "##### <font color='purple'>** Splitting the dataset into train and Validation  ** </font>"
   ]
  },
  {
   "cell_type": "code",
   "execution_count": 8,
   "metadata": {
    "colab": {
     "base_uri": "https://localhost:8080/"
    },
    "id": "fMuBZ9V4A_Xl",
    "outputId": "f0b63aaf-a1a9-4f94-dc25-7b05cbe3e1fa"
   },
   "outputs": [
    {
     "name": "stdout",
     "output_type": "stream",
     "text": [
      "Shape of train_pairs  is : (212375, 3)\n",
      "Shape of train_pairs  is : (37478, 3)\n"
     ]
    }
   ],
   "source": [
    "from sklearn.model_selection import train_test_split\n",
    "train_pairs, validation_pairs = train_test_split(hindi_eng_dataset_preprocessed_sample, test_size=0.15,random_state = 15)\n",
    "print(\"Shape of train_pairs  is :\",train_pairs.shape)\n",
    "print(\"Shape of train_pairs  is :\",validation_pairs.shape)"
   ]
  },
  {
   "cell_type": "code",
   "execution_count": 9,
   "metadata": {
    "colab": {
     "base_uri": "https://localhost:8080/",
     "height": 141
    },
    "id": "_bls2_MwA_ab",
    "outputId": "d455a3db-5348-48f9-e715-60d8e3ea14d0"
   },
   "outputs": [
    {
     "data": {
      "text/html": [
       "<div>\n",
       "<style scoped>\n",
       "    .dataframe tbody tr th:only-of-type {\n",
       "        vertical-align: middle;\n",
       "    }\n",
       "\n",
       "    .dataframe tbody tr th {\n",
       "        vertical-align: top;\n",
       "    }\n",
       "\n",
       "    .dataframe thead th {\n",
       "        text-align: right;\n",
       "    }\n",
       "</style>\n",
       "<table border=\"1\" class=\"dataframe\">\n",
       "  <thead>\n",
       "    <tr style=\"text-align: right;\">\n",
       "      <th></th>\n",
       "      <th>eng_sentences</th>\n",
       "      <th>hindi_inp</th>\n",
       "      <th>hindi_out</th>\n",
       "    </tr>\n",
       "  </thead>\n",
       "  <tbody>\n",
       "    <tr>\n",
       "      <th>78267</th>\n",
       "      <td>ice cream</td>\n",
       "      <td>&lt;start&gt; आइस्क्रीम</td>\n",
       "      <td>आइस्क्रीम &lt;end&gt;</td>\n",
       "    </tr>\n",
       "    <tr>\n",
       "      <th>17623</th>\n",
       "      <td>enabling font s</td>\n",
       "      <td>&lt;start&gt; प्रविष्टि सक्षम किया जा रहा है...</td>\n",
       "      <td>प्रविष्टि सक्षम किया जा रहा है...  &lt;end&gt;</td>\n",
       "    </tr>\n",
       "    <tr>\n",
       "      <th>28236</th>\n",
       "      <td>and lo he is a witness unto that</td>\n",
       "      <td>&lt;start&gt; और यक़ीनी ख़ुदा भी उससे वाक़िफ़ है</td>\n",
       "      <td>और यक़ीनी ख़ुदा भी उससे वाक़िफ़ है &lt;end&gt;</td>\n",
       "    </tr>\n",
       "  </tbody>\n",
       "</table>\n",
       "</div>"
      ],
      "text/plain": [
       "                          eng_sentences  ...                                 hindi_out\n",
       "78267                         ice cream  ...                           आइस्क्रीम <end>\n",
       "17623                   enabling font s  ...  प्रविष्टि सक्षम किया जा रहा है...  <end>\n",
       "28236  and lo he is a witness unto that  ...  और यक़ीनी ख़ुदा भी उससे वाक़िफ़ है <end>\n",
       "\n",
       "[3 rows x 3 columns]"
      ]
     },
     "execution_count": 9,
     "metadata": {
      "tags": []
     },
     "output_type": "execute_result"
    }
   ],
   "source": [
    "train_pairs.head(3)"
   ]
  },
  {
   "cell_type": "code",
   "execution_count": 10,
   "metadata": {
    "colab": {
     "base_uri": "https://localhost:8080/",
     "height": 141
    },
    "id": "ULqEofoDCDjM",
    "outputId": "c0db1988-d009-49b9-b933-9a56c890407e"
   },
   "outputs": [
    {
     "data": {
      "text/html": [
       "<div>\n",
       "<style scoped>\n",
       "    .dataframe tbody tr th:only-of-type {\n",
       "        vertical-align: middle;\n",
       "    }\n",
       "\n",
       "    .dataframe tbody tr th {\n",
       "        vertical-align: top;\n",
       "    }\n",
       "\n",
       "    .dataframe thead th {\n",
       "        text-align: right;\n",
       "    }\n",
       "</style>\n",
       "<table border=\"1\" class=\"dataframe\">\n",
       "  <thead>\n",
       "    <tr style=\"text-align: right;\">\n",
       "      <th></th>\n",
       "      <th>eng_sentences</th>\n",
       "      <th>hindi_inp</th>\n",
       "      <th>hindi_out</th>\n",
       "    </tr>\n",
       "  </thead>\n",
       "  <tbody>\n",
       "    <tr>\n",
       "      <th>105838</th>\n",
       "      <td>brasero optical media library</td>\n",
       "      <td>&lt;start&gt; ब्रैसेरो ऑप्टिकल मीडिया लाइबेरी</td>\n",
       "      <td>ब्रैसेरो ऑप्टिकल मीडिया लाइबेरी &lt;end&gt;</td>\n",
       "    </tr>\n",
       "    <tr>\n",
       "      <th>136008</th>\n",
       "      <td>in the one place you multiply it by 5311 i e t...</td>\n",
       "      <td>&lt;start&gt; एक जगह आप उसे 5311 से अर्थात उस संख़्य...</td>\n",
       "      <td>एक जगह आप उसे 5311 से अर्थात उस संख़्या से गुण...</td>\n",
       "    </tr>\n",
       "    <tr>\n",
       "      <th>193275</th>\n",
       "      <td>the condition of operations which is working w...</td>\n",
       "      <td>&lt;start&gt; कार्य संचालन की ऐसी स्थिति जब कार्य अच...</td>\n",
       "      <td>कार्य संचालन की ऐसी स्थिति जब कार्य अच्छी तरह ...</td>\n",
       "    </tr>\n",
       "  </tbody>\n",
       "</table>\n",
       "</div>"
      ],
      "text/plain": [
       "                                            eng_sentences  ...                                          hindi_out\n",
       "105838                      brasero optical media library  ...              ब्रैसेरो ऑप्टिकल मीडिया लाइबेरी <end>\n",
       "136008  in the one place you multiply it by 5311 i e t...  ...  एक जगह आप उसे 5311 से अर्थात उस संख़्या से गुण...\n",
       "193275  the condition of operations which is working w...  ...  कार्य संचालन की ऐसी स्थिति जब कार्य अच्छी तरह ...\n",
       "\n",
       "[3 rows x 3 columns]"
      ]
     },
     "execution_count": 10,
     "metadata": {
      "tags": []
     },
     "output_type": "execute_result"
    }
   ],
   "source": [
    "validation_pairs.head(3)"
   ]
  },
  {
   "cell_type": "code",
   "execution_count": 11,
   "metadata": {
    "colab": {
     "base_uri": "https://localhost:8080/",
     "height": 141
    },
    "id": "aTtnljXHCDmR",
    "outputId": "9f17fac9-f2cf-4f54-85fa-e8a4a47acbf9"
   },
   "outputs": [
    {
     "data": {
      "text/html": [
       "<div>\n",
       "<style scoped>\n",
       "    .dataframe tbody tr th:only-of-type {\n",
       "        vertical-align: middle;\n",
       "    }\n",
       "\n",
       "    .dataframe tbody tr th {\n",
       "        vertical-align: top;\n",
       "    }\n",
       "\n",
       "    .dataframe thead th {\n",
       "        text-align: right;\n",
       "    }\n",
       "</style>\n",
       "<table border=\"1\" class=\"dataframe\">\n",
       "  <thead>\n",
       "    <tr style=\"text-align: right;\">\n",
       "      <th></th>\n",
       "      <th>eng_sentences</th>\n",
       "      <th>hindi_inp</th>\n",
       "      <th>hindi_out</th>\n",
       "    </tr>\n",
       "  </thead>\n",
       "  <tbody>\n",
       "    <tr>\n",
       "      <th>78267</th>\n",
       "      <td>ice cream</td>\n",
       "      <td>&lt;start&gt; आइस्क्रीम &lt;end&gt;</td>\n",
       "      <td>&lt;start&gt; आइस्क्रीम &lt;end&gt; &lt;end&gt;</td>\n",
       "    </tr>\n",
       "    <tr>\n",
       "      <th>17623</th>\n",
       "      <td>enabling font s</td>\n",
       "      <td>&lt;start&gt; प्रविष्टि सक्षम किया जा रहा है...</td>\n",
       "      <td>प्रविष्टि सक्षम किया जा रहा है...  &lt;end&gt;</td>\n",
       "    </tr>\n",
       "    <tr>\n",
       "      <th>28236</th>\n",
       "      <td>and lo he is a witness unto that</td>\n",
       "      <td>&lt;start&gt; और यक़ीनी ख़ुदा भी उससे वाक़िफ़ है</td>\n",
       "      <td>और यक़ीनी ख़ुदा भी उससे वाक़िफ़ है &lt;end&gt;</td>\n",
       "    </tr>\n",
       "  </tbody>\n",
       "</table>\n",
       "</div>"
      ],
      "text/plain": [
       "                          eng_sentences  ...                                 hindi_out\n",
       "78267                         ice cream  ...             <start> आइस्क्रीम <end> <end>\n",
       "17623                   enabling font s  ...  प्रविष्टि सक्षम किया जा रहा है...  <end>\n",
       "28236  and lo he is a witness unto that  ...  और यक़ीनी ख़ुदा भी उससे वाक़िफ़ है <end>\n",
       "\n",
       "[3 rows x 3 columns]"
      ]
     },
     "execution_count": 11,
     "metadata": {
      "tags": []
     },
     "output_type": "execute_result"
    }
   ],
   "source": [
    "# for one sentence we will be adding <end> token so that the tokanizer learns the word <end>\n",
    "# with this we can use only one tokenizer for both encoder output and decoder output\n",
    "train_pairs.iloc[0]['hindi_inp']= str(train_pairs.iloc[0]['hindi_inp'])+' <end>'\n",
    "train_pairs.iloc[0]['hindi_out']= str(train_pairs.iloc[0]['hindi_inp'])+' <end>'\n",
    "train_pairs.head(3)"
   ]
  },
  {
   "cell_type": "code",
   "execution_count": 12,
   "metadata": {
    "colab": {
     "base_uri": "https://localhost:8080/",
     "height": 176
    },
    "id": "LUezYz0WCDpS",
    "outputId": "f0403f0e-771c-4f21-9b2d-4c1405e8e07f"
   },
   "outputs": [
    {
     "name": "stdout",
     "output_type": "stream",
     "text": [
      "train_pairs Data Head :\n",
      "----------------------------------------------------------------------------------------------------\n"
     ]
    },
    {
     "data": {
      "text/html": [
       "<div>\n",
       "<style scoped>\n",
       "    .dataframe tbody tr th:only-of-type {\n",
       "        vertical-align: middle;\n",
       "    }\n",
       "\n",
       "    .dataframe tbody tr th {\n",
       "        vertical-align: top;\n",
       "    }\n",
       "\n",
       "    .dataframe thead th {\n",
       "        text-align: right;\n",
       "    }\n",
       "</style>\n",
       "<table border=\"1\" class=\"dataframe\">\n",
       "  <thead>\n",
       "    <tr style=\"text-align: right;\">\n",
       "      <th></th>\n",
       "      <th>eng_sentences</th>\n",
       "      <th>hindi_inp</th>\n",
       "      <th>hindi_out</th>\n",
       "    </tr>\n",
       "  </thead>\n",
       "  <tbody>\n",
       "    <tr>\n",
       "      <th>78267</th>\n",
       "      <td>ice cream</td>\n",
       "      <td>&lt;start&gt; आइस्क्रीम &lt;end&gt;</td>\n",
       "      <td>&lt;start&gt; आइस्क्रीम &lt;end&gt; &lt;end&gt;</td>\n",
       "    </tr>\n",
       "    <tr>\n",
       "      <th>17623</th>\n",
       "      <td>enabling font s</td>\n",
       "      <td>&lt;start&gt; प्रविष्टि सक्षम किया जा रहा है...</td>\n",
       "      <td>प्रविष्टि सक्षम किया जा रहा है...  &lt;end&gt;</td>\n",
       "    </tr>\n",
       "    <tr>\n",
       "      <th>28236</th>\n",
       "      <td>and lo he is a witness unto that</td>\n",
       "      <td>&lt;start&gt; और यक़ीनी ख़ुदा भी उससे वाक़िफ़ है</td>\n",
       "      <td>और यक़ीनी ख़ुदा भी उससे वाक़िफ़ है &lt;end&gt;</td>\n",
       "    </tr>\n",
       "  </tbody>\n",
       "</table>\n",
       "</div>"
      ],
      "text/plain": [
       "                          eng_sentences  ...                                 hindi_out\n",
       "78267                         ice cream  ...             <start> आइस्क्रीम <end> <end>\n",
       "17623                   enabling font s  ...  प्रविष्टि सक्षम किया जा रहा है...  <end>\n",
       "28236  and lo he is a witness unto that  ...  और यक़ीनी ख़ुदा भी उससे वाक़िफ़ है <end>\n",
       "\n",
       "[3 rows x 3 columns]"
      ]
     },
     "execution_count": 12,
     "metadata": {
      "tags": []
     },
     "output_type": "execute_result"
    }
   ],
   "source": [
    "print(\"train_pairs Data Head :\")\n",
    "print(\"-\"*100)\n",
    "train_pairs.head(3)"
   ]
  },
  {
   "cell_type": "code",
   "execution_count": 13,
   "metadata": {
    "colab": {
     "base_uri": "https://localhost:8080/",
     "height": 176
    },
    "id": "mmO4sQVxCDsC",
    "outputId": "7913ee9c-ec47-46de-d1e3-394eed68cf2d"
   },
   "outputs": [
    {
     "name": "stdout",
     "output_type": "stream",
     "text": [
      "validation_pairs Data Head :\n",
      "----------------------------------------------------------------------------------------------------\n"
     ]
    },
    {
     "data": {
      "text/html": [
       "<div>\n",
       "<style scoped>\n",
       "    .dataframe tbody tr th:only-of-type {\n",
       "        vertical-align: middle;\n",
       "    }\n",
       "\n",
       "    .dataframe tbody tr th {\n",
       "        vertical-align: top;\n",
       "    }\n",
       "\n",
       "    .dataframe thead th {\n",
       "        text-align: right;\n",
       "    }\n",
       "</style>\n",
       "<table border=\"1\" class=\"dataframe\">\n",
       "  <thead>\n",
       "    <tr style=\"text-align: right;\">\n",
       "      <th></th>\n",
       "      <th>eng_sentences</th>\n",
       "      <th>hindi_inp</th>\n",
       "      <th>hindi_out</th>\n",
       "    </tr>\n",
       "  </thead>\n",
       "  <tbody>\n",
       "    <tr>\n",
       "      <th>105838</th>\n",
       "      <td>brasero optical media library</td>\n",
       "      <td>&lt;start&gt; ब्रैसेरो ऑप्टिकल मीडिया लाइबेरी</td>\n",
       "      <td>ब्रैसेरो ऑप्टिकल मीडिया लाइबेरी &lt;end&gt;</td>\n",
       "    </tr>\n",
       "    <tr>\n",
       "      <th>136008</th>\n",
       "      <td>in the one place you multiply it by 5311 i e t...</td>\n",
       "      <td>&lt;start&gt; एक जगह आप उसे 5311 से अर्थात उस संख़्य...</td>\n",
       "      <td>एक जगह आप उसे 5311 से अर्थात उस संख़्या से गुण...</td>\n",
       "    </tr>\n",
       "    <tr>\n",
       "      <th>193275</th>\n",
       "      <td>the condition of operations which is working w...</td>\n",
       "      <td>&lt;start&gt; कार्य संचालन की ऐसी स्थिति जब कार्य अच...</td>\n",
       "      <td>कार्य संचालन की ऐसी स्थिति जब कार्य अच्छी तरह ...</td>\n",
       "    </tr>\n",
       "  </tbody>\n",
       "</table>\n",
       "</div>"
      ],
      "text/plain": [
       "                                            eng_sentences  ...                                          hindi_out\n",
       "105838                      brasero optical media library  ...              ब्रैसेरो ऑप्टिकल मीडिया लाइबेरी <end>\n",
       "136008  in the one place you multiply it by 5311 i e t...  ...  एक जगह आप उसे 5311 से अर्थात उस संख़्या से गुण...\n",
       "193275  the condition of operations which is working w...  ...  कार्य संचालन की ऐसी स्थिति जब कार्य अच्छी तरह ...\n",
       "\n",
       "[3 rows x 3 columns]"
      ]
     },
     "execution_count": 13,
     "metadata": {
      "tags": []
     },
     "output_type": "execute_result"
    }
   ],
   "source": [
    "print(\"validation_pairs Data Head :\")\n",
    "print(\"-\"*100)\n",
    "validation_pairs.head(3)"
   ]
  },
  {
   "cell_type": "code",
   "execution_count": 14,
   "metadata": {
    "colab": {
     "base_uri": "https://localhost:8080/"
    },
    "id": "i3Lpwe19CDu-",
    "outputId": "8c423ca6-f73e-43a3-9b63-2bf0a8be99df"
   },
   "outputs": [
    {
     "name": "stdout",
     "output_type": "stream",
     "text": [
      "<class 'pandas.core.frame.DataFrame'>\n",
      "Int64Index: 249853 entries, 0 to 249999\n",
      "Data columns (total 3 columns):\n",
      " #   Column         Non-Null Count   Dtype \n",
      "---  ------         --------------   ----- \n",
      " 0   eng_sentences  249853 non-null  object\n",
      " 1   hindi_inp      249853 non-null  object\n",
      " 2   hindi_out      249853 non-null  object\n",
      "dtypes: object(3)\n",
      "memory usage: 7.6+ MB\n"
     ]
    }
   ],
   "source": [
    "hindi_eng_dataset_preprocessed_sample.info()"
   ]
  },
  {
   "cell_type": "code",
   "execution_count": 15,
   "metadata": {
    "colab": {
     "base_uri": "https://localhost:8080/"
    },
    "id": "OQsiDY8rD9qS",
    "outputId": "575315d1-5a62-44b8-db48-7d198c64e819"
   },
   "outputs": [
    {
     "data": {
      "text/plain": [
       "eng_sentences    0\n",
       "hindi_inp        0\n",
       "hindi_out        0\n",
       "dtype: int64"
      ]
     },
     "execution_count": 15,
     "metadata": {
      "tags": []
     },
     "output_type": "execute_result"
    }
   ],
   "source": [
    "hindi_eng_dataset_preprocessed_sample.isnull().sum(axis = 0)"
   ]
  },
  {
   "cell_type": "markdown",
   "metadata": {},
   "source": [
    "##### <font color='purple'>** Creating Tokenizers, Doing Padding,truncating,coverting sentences into numerical IDs  ** </font>"
   ]
  },
  {
   "cell_type": "code",
   "execution_count": 16,
   "metadata": {
    "id": "WWsCXijiCDx6"
   },
   "outputs": [],
   "source": [
    "import pandas as pd\n",
    "import numpy as np\n",
    "import tensorflow as tf\n",
    "from tensorflow.keras.preprocessing.text import Tokenizer\n",
    "from tensorflow.keras.preprocessing.sequence import pad_sequences"
   ]
  },
  {
   "cell_type": "code",
   "execution_count": 17,
   "metadata": {
    "id": "4X0l3bVXCVYU"
   },
   "outputs": [],
   "source": [
    "tknizer_eng = Tokenizer()\n",
    "tknizer_eng.fit_on_texts(train_pairs['eng_sentences'].values)\n",
    "encoder_seq = tknizer_eng.texts_to_sequences(train_pairs['eng_sentences'].values)\n",
    "max_len_eng = 40\n",
    "padded_english_train = pad_sequences(encoder_seq, maxlen=max_len_eng, dtype='int32', padding='post')"
   ]
  },
  {
   "cell_type": "code",
   "execution_count": 18,
   "metadata": {
    "id": "SyK_Xw4mCVhO"
   },
   "outputs": [],
   "source": [
    "# For validation data\n",
    "encoder_seq = tknizer_eng.texts_to_sequences(validation_pairs['eng_sentences'].values)\n",
    "padded_english_validation = pad_sequences(encoder_seq, maxlen=max_len_eng, dtype='int32', padding='post')"
   ]
  },
  {
   "cell_type": "code",
   "execution_count": 19,
   "metadata": {
    "colab": {
     "base_uri": "https://localhost:8080/"
    },
    "id": "xBJCehdtCVkN",
    "outputId": "19ccfb09-dd6e-4cdf-bf65-01d61352a4e8"
   },
   "outputs": [
    {
     "data": {
      "text/plain": [
       "array([3240, 8221,    0,    0,    0,    0,    0,    0,    0,    0,    0,\n",
       "          0,    0,    0,    0,    0,    0,    0,    0,    0,    0,    0,\n",
       "          0,    0,    0,    0,    0,    0,    0,    0,    0,    0,    0,\n",
       "          0,    0,    0,    0,    0,    0,    0], dtype=int32)"
      ]
     },
     "execution_count": 19,
     "metadata": {
      "tags": []
     },
     "output_type": "execute_result"
    }
   ],
   "source": [
    "padded_english_train[0]"
   ]
  },
  {
   "cell_type": "code",
   "execution_count": 20,
   "metadata": {
    "colab": {
     "base_uri": "https://localhost:8080/"
    },
    "id": "X16-CxemCVm5",
    "outputId": "5d84d0a4-4f2e-47ec-a7b9-718746f21b03"
   },
   "outputs": [
    {
     "data": {
      "text/plain": [
       "array([3643, 6655, 1168, 1449,    0,    0,    0,    0,    0,    0,    0,\n",
       "          0,    0,    0,    0,    0,    0,    0,    0,    0,    0,    0,\n",
       "          0,    0,    0,    0,    0,    0,    0,    0,    0,    0,    0,\n",
       "          0,    0,    0,    0,    0,    0,    0], dtype=int32)"
      ]
     },
     "execution_count": 20,
     "metadata": {
      "tags": []
     },
     "output_type": "execute_result"
    }
   ],
   "source": [
    "padded_english_validation[0]"
   ]
  },
  {
   "cell_type": "code",
   "execution_count": 21,
   "metadata": {
    "id": "rEg5HsbwCVpp"
   },
   "outputs": [],
   "source": [
    "tknizer_hindi = Tokenizer(filters='!\"#$%&()*+,-./:;=?@[\\\\]^_`{|}~\\t\\n')\n",
    "tknizer_hindi.fit_on_texts(train_pairs['hindi_inp'].values)\n",
    "decoder_inp_seq = tknizer_hindi.texts_to_sequences(train_pairs['hindi_inp'].values)\n",
    "max_len_hindi = 45\n",
    "padded_input_hindi = pad_sequences(decoder_inp_seq, maxlen=max_len_hindi, dtype='int32', padding='post')"
   ]
  },
  {
   "cell_type": "code",
   "execution_count": 22,
   "metadata": {
    "id": "NN9G8dWDCVsC"
   },
   "outputs": [],
   "source": [
    "# For validation data\n",
    "seq = tknizer_hindi.texts_to_sequences(validation_pairs['hindi_inp'].values)\n",
    "val_padded_input_hindi = pad_sequences(seq, maxlen=max_len_hindi, dtype='int32', padding='post')"
   ]
  },
  {
   "cell_type": "code",
   "execution_count": 23,
   "metadata": {
    "colab": {
     "base_uri": "https://localhost:8080/"
    },
    "id": "oKhAFTjzCVvP",
    "outputId": "4cac980d-0257-4316-e8d1-8b9e597448f0"
   },
   "outputs": [
    {
     "data": {
      "text/plain": [
       "array([    1, 58050, 58051,     0,     0,     0,     0,     0,     0,\n",
       "           0,     0,     0,     0,     0,     0,     0,     0,     0,\n",
       "           0,     0,     0,     0,     0,     0,     0,     0,     0,\n",
       "           0,     0,     0,     0,     0,     0,     0,     0,     0,\n",
       "           0,     0,     0,     0,     0,     0,     0,     0,     0],\n",
       "      dtype=int32)"
      ]
     },
     "execution_count": 23,
     "metadata": {
      "tags": []
     },
     "output_type": "execute_result"
    }
   ],
   "source": [
    "padded_input_hindi[0]"
   ]
  },
  {
   "cell_type": "code",
   "execution_count": 24,
   "metadata": {
    "colab": {
     "base_uri": "https://localhost:8080/"
    },
    "id": "jn5l0dtOCVyR",
    "outputId": "b205efc1-df7b-4c52-8340-f7a90fc99274"
   },
   "outputs": [
    {
     "data": {
      "text/plain": [
       "array([    1,  4172,  8457,  1634, 23142,     0,     0,     0,     0,\n",
       "           0,     0,     0,     0,     0,     0,     0,     0,     0,\n",
       "           0,     0,     0,     0,     0,     0,     0,     0,     0,\n",
       "           0,     0,     0,     0,     0,     0,     0,     0,     0,\n",
       "           0,     0,     0,     0,     0,     0,     0,     0,     0],\n",
       "      dtype=int32)"
      ]
     },
     "execution_count": 24,
     "metadata": {
      "tags": []
     },
     "output_type": "execute_result"
    }
   ],
   "source": [
    "val_padded_input_hindi[0]"
   ]
  },
  {
   "cell_type": "code",
   "execution_count": 25,
   "metadata": {
    "id": "mic0MlUPA_dL"
   },
   "outputs": [],
   "source": [
    "# For Decoder_output\n",
    "decoder_out_seq = tknizer_hindi.texts_to_sequences(train_pairs['hindi_out'].values)\n",
    "padded_output_hindi = pad_sequences(decoder_out_seq, maxlen=max_len_hindi, dtype='int32', padding='post')"
   ]
  },
  {
   "cell_type": "code",
   "execution_count": 26,
   "metadata": {
    "id": "LD5-s7KoA_gK"
   },
   "outputs": [],
   "source": [
    "# For validation data\n",
    "seq = tknizer_hindi.texts_to_sequences(validation_pairs['hindi_out'].values)\n",
    "val_padded_output_hindi = pad_sequences(seq, maxlen=max_len_hindi, dtype='int32', padding='post')"
   ]
  },
  {
   "cell_type": "code",
   "execution_count": 27,
   "metadata": {
    "colab": {
     "base_uri": "https://localhost:8080/"
    },
    "id": "_VlBbFJkFwoA",
    "outputId": "90d6577b-e1b2-47cd-c57e-f6d9f894f9eb"
   },
   "outputs": [
    {
     "data": {
      "text/plain": [
       "array([    1, 58050, 58051, 58051,     0,     0,     0,     0,     0,\n",
       "           0,     0,     0,     0,     0,     0,     0,     0,     0,\n",
       "           0,     0,     0,     0,     0,     0,     0,     0,     0,\n",
       "           0,     0,     0,     0,     0,     0,     0,     0,     0,\n",
       "           0,     0,     0,     0,     0,     0,     0,     0,     0],\n",
       "      dtype=int32)"
      ]
     },
     "execution_count": 27,
     "metadata": {
      "tags": []
     },
     "output_type": "execute_result"
    }
   ],
   "source": [
    "padded_output_hindi[0]"
   ]
  },
  {
   "cell_type": "code",
   "execution_count": 28,
   "metadata": {
    "colab": {
     "base_uri": "https://localhost:8080/"
    },
    "id": "M2Rfx5P7Fwq4",
    "outputId": "24b4e818-fe39-4731-fdd4-ac0a6f026ff8"
   },
   "outputs": [
    {
     "data": {
      "text/plain": [
       "array([ 4172,  8457,  1634, 23142, 58051,     0,     0,     0,     0,\n",
       "           0,     0,     0,     0,     0,     0,     0,     0,     0,\n",
       "           0,     0,     0,     0,     0,     0,     0,     0,     0,\n",
       "           0,     0,     0,     0,     0,     0,     0,     0,     0,\n",
       "           0,     0,     0,     0,     0,     0,     0,     0,     0],\n",
       "      dtype=int32)"
      ]
     },
     "execution_count": 28,
     "metadata": {
      "tags": []
     },
     "output_type": "execute_result"
    }
   ],
   "source": [
    "val_padded_output_hindi[0]"
   ]
  },
  {
   "cell_type": "code",
   "execution_count": 29,
   "metadata": {
    "colab": {
     "base_uri": "https://localhost:8080/"
    },
    "id": "yAlJl1NwFwuz",
    "outputId": "f6a9c703-4b53-43d5-db22-52eb37d6d9de"
   },
   "outputs": [
    {
     "name": "stdout",
     "output_type": "stream",
     "text": [
      "Vocab size of English Sentences is : 83653\n",
      "----------------------------------------------------------------------------------------------------\n",
      "Vocab size of hindi Sentences is : 130674\n"
     ]
    }
   ],
   "source": [
    "vocab_size_english=len(tknizer_eng.word_index.keys())+1\n",
    "print(\"Vocab size of English Sentences is :\",vocab_size_english)\n",
    "vocab_size_hindi=len(tknizer_hindi.word_index.keys())+1\n",
    "print(\"-\"*100)\n",
    "print(\"Vocab size of hindi Sentences is :\",vocab_size_hindi)"
   ]
  },
  {
   "cell_type": "code",
   "execution_count": 30,
   "metadata": {
    "colab": {
     "base_uri": "https://localhost:8080/"
    },
    "id": "VSX2U2IRFwwh",
    "outputId": "cf6d099e-d016-4953-e367-47d00e9528c6"
   },
   "outputs": [
    {
     "name": "stdout",
     "output_type": "stream",
     "text": [
      "130673\n"
     ]
    }
   ],
   "source": [
    "hindi_index_to_word={}\n",
    "for key,value in tknizer_hindi.word_index.items():\n",
    "    hindi_index_to_word[value]=key\n",
    "print(len(hindi_index_to_word))"
   ]
  },
  {
   "cell_type": "markdown",
   "metadata": {
    "id": "NQnezKDTGAPb"
   },
   "source": [
    "## <font color='green'>** Creating Custom Encoder,Decoder Models:  ** </font>"
   ]
  },
  {
   "cell_type": "code",
   "execution_count": 32,
   "metadata": {
    "id": "lwGkqtOCFw4H"
   },
   "outputs": [],
   "source": [
    "import pandas as pd\n",
    "import re\n",
    "import tensorflow as tf\n",
    "from tensorflow.keras.layers import Embedding, LSTM, Dense\n",
    "from tensorflow.keras.models import Model\n",
    "import numpy as np"
   ]
  },
  {
   "cell_type": "markdown",
   "metadata": {
    "id": "g9S5qU4pGGg-"
   },
   "source": [
    " <font color='purple'>** Defining Encoder  ** </font>"
   ]
  },
  {
   "cell_type": "code",
   "execution_count": 33,
   "metadata": {
    "id": "RFSCrE78Fw9c"
   },
   "outputs": [],
   "source": [
    "class Encoder(tf.keras.Model):\n",
    "    '''\n",
    "    Encoder model -- That takes a input sequence and returns encoder-outputs,\n",
    "    encoder_final_state_h,encoder_final_state_c\n",
    "    \n",
    "    '''\n",
    "\n",
    "    def __init__(self,inp_vocab_size,embedding_size,lstm_size,input_length):\n",
    "        super().__init__()\n",
    "        self.lstm_output = 0\n",
    "        self.lstm_state_h=0\n",
    "        self.lstm_state_c=0\n",
    "        self.lstm_size = lstm_size\n",
    "        #Initialize Embedding layer\n",
    "        self.embedding = Embedding(input_dim = inp_vocab_size, output_dim = embedding_size,\n",
    "                                   input_length = input_length,\n",
    "                                   mask_zero=True, name=\"embedding_layer_encoder\")\n",
    "        #Intialize Encoder LSTM layer\n",
    "        self.lstm = LSTM(lstm_size, return_state=True, return_sequences=True, name=\"Encoder_LSTM\")\n",
    "\n",
    "\n",
    "    def call(self,input_sequence,states):\n",
    "        \n",
    "        '''\n",
    "          This function takes a sequence input and the initial states of the encoder.\n",
    "          Pass the input_sequence input to the Embedding layer, \n",
    "          Pass the embedding layer ouput to encoder_lstm\n",
    "          returns -- encoder_output, last time step's hidden and cell state\n",
    "        '''\n",
    "        \n",
    "        input_embedd = self.embedding(input_sequence)\n",
    "        \n",
    "        self.lstm_output, self.lstm_state_h,self.lstm_state_c = self.lstm(input_embedd)\n",
    "        \n",
    "        return self.lstm_output, self.lstm_state_h,self.lstm_state_c\n",
    "    \n",
    "    def initialize_states(self,batch_size):\n",
    "      '''\n",
    "      Given a batch size it will return intial hidden state and intial cell state.\n",
    "      If batch size is 32- Hidden state is zeros of size [32,lstm_units],\n",
    "      cell state zeros is of size [32,lstm_units]\n",
    "      '''\n",
    "      return (tf.zeros([batch_size, self.lstm_size]),\n",
    "              tf.zeros([batch_size, self.lstm_size]))\n"
   ]
  },
  {
   "cell_type": "markdown",
   "metadata": {},
   "source": [
    " <font color='purple'>** Defining Decoder  ** </font>"
   ]
  },
  {
   "cell_type": "code",
   "execution_count": 34,
   "metadata": {
    "id": "Cc4ZSjuCGJVS"
   },
   "outputs": [],
   "source": [
    "class Decoder(tf.keras.Model):\n",
    "    '''\n",
    "    Encoder model -- That takes a input sequence and returns output sequence\n",
    "    '''\n",
    "\n",
    "    def __init__(self,out_vocab_size,embedding_size,lstm_size,input_length):\n",
    "        super().__init__()\n",
    "        self.vocab_size = out_vocab_size\n",
    "        self.embedding_dim = embedding_size\n",
    "        self.lstm_size = lstm_size\n",
    "        self.input_length = input_length\n",
    "        \n",
    "        #Initialize Embedding layer\n",
    "        self.embedding = Embedding(input_dim=self.vocab_size, output_dim=self.embedding_dim,\n",
    "                                   input_length=self.input_length,\n",
    "                                   mask_zero=True, name=\"embedding_layer_decoder\")\n",
    "        \n",
    "        #Intialize Decoder LSTM layer\n",
    "        self.lstm = LSTM(self.lstm_size, return_sequences=True, return_state=True, name=\"Encoder_LSTM\")\n",
    "        \n",
    "        \n",
    "    def call(self,input_sequence,initial_states):\n",
    "        '''\n",
    "          This function takes a sequence input and the initial states of the encoder.\n",
    "          Pass the input_sequence input to the Embedding layer,\n",
    "          Pass the embedding layer ouput to decoder_lstm\n",
    "        \n",
    "          returns -- decoder_output,decoder_final_state_h,decoder_final_state_c\n",
    "        '''\n",
    "        target_embedd                           = self.embedding(input_sequence)\n",
    "        lstm_output, decoder_h,decoder_c        = self.lstm(target_embedd, initial_state = initial_states)\n",
    "        \n",
    "        return lstm_output,decoder_h,decoder_c"
   ]
  },
  {
   "cell_type": "markdown",
   "metadata": {},
   "source": [
    " <font color='purple'>** Combining Both (Encoder model & Decoder Model) ** </font>"
   ]
  },
  {
   "cell_type": "code",
   "execution_count": 35,
   "metadata": {
    "id": "08K-6uF1GJYk"
   },
   "outputs": [],
   "source": [
    "class Encoder_decoder(tf.keras.Model):\n",
    "    \n",
    "    def __init__(self,encoder_inputs_length,decoder_inputs_length,output_vocab_size,\n",
    "                 vocab_size_eng,vocab_size_hindi):\n",
    "        \n",
    "        super().__init__()\n",
    "        self.vocab_size_eng = vocab_size_eng\n",
    "        self.encoder_inputs_length = encoder_inputs_length\n",
    "        self.vocab_size_eng = vocab_size_hindi\n",
    "        self.decoder_inputs_length = decoder_inputs_length\n",
    "        self.output_vocab_size = output_vocab_size\n",
    "        #Create encoder object\n",
    "        self.encoder = Encoder(inp_vocab_size=self.vocab_size_eng, embedding_size=100 ,\n",
    "                               lstm_size = 256 ,\n",
    "                               input_length=self.encoder_inputs_length)\n",
    "        \n",
    "        \n",
    "        #Create decoder object\n",
    "        self.decoder = Decoder(out_vocab_size=self.vocab_size_hindi , \n",
    "                               embedding_size=100, lstm_size = 256 ,\n",
    "                               input_length=self.decoder_inputs_length)\n",
    "        \n",
    "        \n",
    "        #Intialize Dense layer(out_vocab_size) with activation='softmax'\n",
    "        self.dense   = Dense(self.output_vocab_size, activation='softmax')\n",
    "        \n",
    "    \n",
    "    def call(self,data):\n",
    "        input,output = data[0], data[1]\n",
    "        encoder_output, encoder_h, encoder_c = self.encoder(input,0)\n",
    "        states = [encoder_h, encoder_c]\n",
    "        decoder_output ,decoder_h,decoder_c  = self.decoder(output, states)\n",
    "        output                               = self.dense(decoder_output)\n",
    "        return output"
   ]
  },
  {
   "cell_type": "markdown",
   "metadata": {},
   "source": [
    " <font color='purple'>** Defining Encoder_Decoder Model ** </font>"
   ]
  },
  {
   "cell_type": "code",
   "execution_count": 36,
   "metadata": {
    "id": "eWuhMfjXGJbs"
   },
   "outputs": [],
   "source": [
    "#Create an object of encoder_decoder Model class, \n",
    "model  = Encoder_decoder(encoder_inputs_length=40,decoder_inputs_length=45,\n",
    "                         output_vocab_size=vocab_size_hindi,\n",
    "                         vocab_size_ita = vocab_size_english,vocab_size_eng= vocab_size_hindi)"
   ]
  },
  {
   "cell_type": "markdown",
   "metadata": {},
   "source": [
    " <font color='purple'>** Compiling Model ** </font>"
   ]
  },
  {
   "cell_type": "code",
   "execution_count": 37,
   "metadata": {
    "id": "_yGqTNx2GJee"
   },
   "outputs": [],
   "source": [
    "optimizer = tf.keras.optimizers.Adam()\n",
    "model.compile(optimizer=optimizer,loss='sparse_categorical_crossentropy')"
   ]
  },
  {
   "cell_type": "code",
   "execution_count": 91,
   "metadata": {
    "colab": {
     "base_uri": "https://localhost:8080/"
    },
    "id": "N3vBbCEbOnCT",
    "outputId": "19d119bb-aa94-42c9-dc53-28bc39c82eb0"
   },
   "outputs": [
    {
     "name": "stdout",
     "output_type": "stream",
     "text": [
      "Model: \"encoder_decoder\"\n",
      "_________________________________________________________________\n",
      "Layer (type)                 Output Shape              Param #   \n",
      "=================================================================\n",
      "encoder (Encoder)            multiple                  8730868   \n",
      "_________________________________________________________________\n",
      "decoder (Decoder)            multiple                  13432968  \n",
      "_________________________________________________________________\n",
      "dense (Dense)                multiple                  33583218  \n",
      "=================================================================\n",
      "Total params: 55,747,054\n",
      "Trainable params: 55,747,054\n",
      "Non-trainable params: 0\n",
      "_________________________________________________________________\n"
     ]
    }
   ],
   "source": [
    "model.summary()"
   ]
  },
  {
   "cell_type": "markdown",
   "metadata": {
    "id": "dmvZ3QF7JiIx"
   },
   "source": [
    " <font color='purple'>** Training Whole network in multiple steps ** </font>"
   ]
  },
  {
   "cell_type": "code",
   "execution_count": null,
   "metadata": {
    "colab": {
     "base_uri": "https://localhost:8080/"
    },
    "id": "uZZkf8JlGJix",
    "outputId": "195514fa-b850-4d35-90dd-37afbccef48c"
   },
   "outputs": [
    {
     "name": "stdout",
     "output_type": "stream",
     "text": [
      "Epoch 1/2\n",
      "3319/3319 [==============================] - 1534s 458ms/step - loss: 2.0203 - val_loss: 1.6983\n",
      "Epoch 2/2\n",
      "3319/3319 [==============================] - 1539s 464ms/step - loss: 1.6504 - val_loss: 1.5312\n"
     ]
    },
    {
     "data": {
      "text/plain": [
       "<tensorflow.python.keras.callbacks.History at 0x7fde9953ded0>"
      ]
     },
     "execution_count": 40,
     "metadata": {
      "tags": []
     },
     "output_type": "execute_result"
    }
   ],
   "source": [
    "model.fit([padded_english_train, padded_input_hindi], padded_output_hindi ,\n",
    "          epochs = 2,\n",
    "          validation_data = ([padded_english_validation,val_padded_input_hindi],val_padded_output_hindi),\n",
    "          verbose = True,\n",
    "          batch_size = 64)"
   ]
  },
  {
   "cell_type": "code",
   "execution_count": null,
   "metadata": {
    "id": "WM3t2_i76Uf7"
   },
   "outputs": [],
   "source": [
    "model.save_weights(\"model_weights_after_2_epochs.h5\")"
   ]
  },
  {
   "cell_type": "code",
   "execution_count": null,
   "metadata": {
    "id": "-Otzy5cHVpae"
   },
   "outputs": [],
   "source": [
    "!cp \"model_weights_after_2_epochs.h5\" \"/content/drive/MyDrive/Machine_translation_Project\""
   ]
  },
  {
   "cell_type": "code",
   "execution_count": null,
   "metadata": {
    "colab": {
     "base_uri": "https://localhost:8080/"
    },
    "id": "z45JWCL9Nx8L",
    "outputId": "2d0a97fb-1384-4245-e17a-38ce95fe4dc7"
   },
   "outputs": [
    {
     "name": "stdout",
     "output_type": "stream",
     "text": [
      "Epoch 1/2\n",
      "3319/3319 [==============================] - 1517s 457ms/step - loss: 1.4573 - val_loss: 1.4459\n",
      "Epoch 2/2\n",
      "3319/3319 [==============================] - 1519s 458ms/step - loss: 1.3122 - val_loss: 1.3971\n"
     ]
    },
    {
     "data": {
      "text/plain": [
       "<tensorflow.python.keras.callbacks.History at 0x7fde408f4850>"
      ]
     },
     "execution_count": 49,
     "metadata": {
      "tags": []
     },
     "output_type": "execute_result"
    }
   ],
   "source": [
    "model.fit([padded_english_train, padded_input_hindi], padded_output_hindi ,\n",
    "          epochs = 2,\n",
    "          validation_data = ([padded_english_validation,val_padded_input_hindi],val_padded_output_hindi),\n",
    "          verbose = True,\n",
    "          batch_size = 64)"
   ]
  },
  {
   "cell_type": "code",
   "execution_count": null,
   "metadata": {
    "id": "cuxbRQu-iNiq"
   },
   "outputs": [],
   "source": [
    "model.save_weights(\"model_weights_after_4_epochs.h5\")"
   ]
  },
  {
   "cell_type": "code",
   "execution_count": null,
   "metadata": {
    "id": "p0IooJOEiNle"
   },
   "outputs": [],
   "source": [
    "!cp \"model_weights_after_4_epochs.h5\" \"/content/drive/MyDrive/Machine_translation_Project\""
   ]
  },
  {
   "cell_type": "code",
   "execution_count": null,
   "metadata": {
    "colab": {
     "base_uri": "https://localhost:8080/"
    },
    "id": "dA350vYiiNoC",
    "outputId": "343b35ab-dcf7-4453-e859-7341c1723f82"
   },
   "outputs": [
    {
     "name": "stdout",
     "output_type": "stream",
     "text": [
      "Epoch 1/2\n",
      "3319/3319 [==============================] - 1517s 457ms/step - loss: 1.1937 - val_loss: 1.3667\n",
      "Epoch 2/2\n",
      "3319/3319 [==============================] - 1514s 456ms/step - loss: 1.0932 - val_loss: 1.3515\n"
     ]
    },
    {
     "data": {
      "text/plain": [
       "<tensorflow.python.keras.callbacks.History at 0x7fde3883e390>"
      ]
     },
     "execution_count": 52,
     "metadata": {
      "tags": []
     },
     "output_type": "execute_result"
    }
   ],
   "source": [
    "model.fit([padded_english_train, padded_input_hindi], padded_output_hindi ,\n",
    "          epochs = 2,\n",
    "          validation_data = ([padded_english_validation,val_padded_input_hindi],val_padded_output_hindi),\n",
    "          verbose = True,\n",
    "          batch_size = 64)"
   ]
  },
  {
   "cell_type": "code",
   "execution_count": null,
   "metadata": {
    "id": "tRnd2LhXiNqr"
   },
   "outputs": [],
   "source": [
    "model.save_weights(\"model_weights_after_6_epochs.h5\")"
   ]
  },
  {
   "cell_type": "code",
   "execution_count": null,
   "metadata": {
    "id": "Qj90n-L5iNtY"
   },
   "outputs": [],
   "source": [
    "!cp \"model_weights_after_6_epochs.h5\" \"/content/drive/MyDrive/Machine_translation_Project\""
   ]
  },
  {
   "cell_type": "code",
   "execution_count": null,
   "metadata": {
    "colab": {
     "base_uri": "https://localhost:8080/"
    },
    "id": "GNajCR3iNx_h",
    "outputId": "a07e0ff9-1a2f-477d-c546-50438450a92f"
   },
   "outputs": [
    {
     "name": "stdout",
     "output_type": "stream",
     "text": [
      "Epoch 1/2\n",
      "3319/3319 [==============================] - 1529s 461ms/step - loss: 1.0067 - val_loss: 1.3460\n",
      "Epoch 2/2\n",
      "3319/3319 [==============================] - 1517s 457ms/step - loss: 0.9326 - val_loss: 1.3481\n"
     ]
    },
    {
     "data": {
      "text/plain": [
       "<tensorflow.python.keras.callbacks.History at 0x7fde41131650>"
      ]
     },
     "execution_count": 55,
     "metadata": {
      "tags": []
     },
     "output_type": "execute_result"
    }
   ],
   "source": [
    "model.fit([padded_english_train, padded_input_hindi], padded_output_hindi ,\n",
    "          epochs = 2,\n",
    "          validation_data = ([padded_english_validation,val_padded_input_hindi],val_padded_output_hindi),\n",
    "          verbose = True,\n",
    "          batch_size = 64)"
   ]
  },
  {
   "cell_type": "code",
   "execution_count": null,
   "metadata": {
    "id": "BF9Ri12BNyDO"
   },
   "outputs": [],
   "source": [
    "model.save_weights(\"model_weights_after_8_epochs.h5\")"
   ]
  },
  {
   "cell_type": "code",
   "execution_count": null,
   "metadata": {
    "id": "DMHOqfwCK0__"
   },
   "outputs": [],
   "source": [
    "!cp \"model_weights_after_8_epochs.h5\" \"/content/drive/MyDrive/Machine_translation_Project\""
   ]
  },
  {
   "cell_type": "code",
   "execution_count": null,
   "metadata": {
    "colab": {
     "base_uri": "https://localhost:8080/"
    },
    "id": "C6i66leLK1C1",
    "outputId": "3a27e551-7e6f-4a86-9718-fb55beb947a3"
   },
   "outputs": [
    {
     "name": "stdout",
     "output_type": "stream",
     "text": [
      "Epoch 1/2\n",
      "3319/3319 [==============================] - 1516s 457ms/step - loss: 0.8705 - val_loss: 1.3507\n",
      "Epoch 2/2\n",
      "3319/3319 [==============================] - 1517s 457ms/step - loss: 0.8178 - val_loss: 1.3598\n"
     ]
    },
    {
     "data": {
      "text/plain": [
       "<tensorflow.python.keras.callbacks.History at 0x7fde99ab9a10>"
      ]
     },
     "execution_count": 58,
     "metadata": {
      "tags": []
     },
     "output_type": "execute_result"
    }
   ],
   "source": [
    "model.fit([padded_english_train, padded_input_hindi], padded_output_hindi ,\n",
    "          epochs = 2,\n",
    "          validation_data = ([padded_english_validation,val_padded_input_hindi],val_padded_output_hindi),\n",
    "          verbose = True,\n",
    "          batch_size = 64)"
   ]
  },
  {
   "cell_type": "code",
   "execution_count": null,
   "metadata": {
    "id": "l4_tEPZTK1GV"
   },
   "outputs": [],
   "source": [
    "model.save_weights(\"model_weights_after_10_epochs.h5\")"
   ]
  },
  {
   "cell_type": "code",
   "execution_count": null,
   "metadata": {
    "id": "I5wqKG-2K1Ik"
   },
   "outputs": [],
   "source": [
    "!cp \"model_weights_after_10_epochs.h5\" \"/content/drive/MyDrive/Machine_translation_Project\""
   ]
  },
  {
   "cell_type": "code",
   "execution_count": null,
   "metadata": {
    "colab": {
     "base_uri": "https://localhost:8080/"
    },
    "id": "w33DxCwBK1Mh",
    "outputId": "e1d73cc0-6a78-4618-bdb6-c06d7542057f"
   },
   "outputs": [
    {
     "name": "stdout",
     "output_type": "stream",
     "text": [
      "Epoch 1/2\n",
      "3319/3319 [==============================] - 1461s 440ms/step - loss: 0.7957 - val_loss: 1.3630\n",
      "Epoch 2/2\n",
      "3319/3319 [==============================] - 1431s 431ms/step - loss: 0.7382 - val_loss: 1.3755\n"
     ]
    },
    {
     "data": {
      "text/plain": [
       "<tensorflow.python.keras.callbacks.History at 0x7f13b39be1d0>"
      ]
     },
     "execution_count": 39,
     "metadata": {
      "tags": []
     },
     "output_type": "execute_result"
    }
   ],
   "source": [
    "model.fit([padded_english_train, padded_input_hindi], padded_output_hindi ,\n",
    "          epochs = 2,\n",
    "          validation_data = ([padded_english_validation,val_padded_input_hindi],val_padded_output_hindi),\n",
    "          verbose = True,\n",
    "          batch_size = 64)"
   ]
  },
  {
   "cell_type": "code",
   "execution_count": null,
   "metadata": {
    "id": "nHX28y-pK1Nv"
   },
   "outputs": [],
   "source": [
    "model.save_weights(\"model_weights_after_12_epochs.h5\")"
   ]
  },
  {
   "cell_type": "code",
   "execution_count": null,
   "metadata": {
    "id": "y2m4nyptK1Qp"
   },
   "outputs": [],
   "source": [
    "!cp \"model_weights_after_12_epochs.h5\" \"/content/drive/MyDrive/1. My_folder/2. AI Projects./4. Machine Translation Project\""
   ]
  },
  {
   "cell_type": "code",
   "execution_count": null,
   "metadata": {
    "colab": {
     "base_uri": "https://localhost:8080/"
    },
    "id": "vmVDzYztK1VS",
    "outputId": "82a39b75-bfc9-41ff-92bd-25f333458ff1"
   },
   "outputs": [
    {
     "name": "stdout",
     "output_type": "stream",
     "text": [
      "Epoch 1/2\n",
      "3319/3319 [==============================] - 1430s 431ms/step - loss: 0.7014 - val_loss: 1.3905\n",
      "Epoch 2/2\n",
      "3319/3319 [==============================] - 1445s 435ms/step - loss: 0.6694 - val_loss: 1.4064\n"
     ]
    },
    {
     "data": {
      "text/plain": [
       "<tensorflow.python.keras.callbacks.History at 0x7f13b30c7a50>"
      ]
     },
     "execution_count": 42,
     "metadata": {
      "tags": []
     },
     "output_type": "execute_result"
    }
   ],
   "source": [
    "model.fit([padded_english_train, padded_input_hindi], padded_output_hindi ,\n",
    "          epochs = 2,\n",
    "          validation_data = ([padded_english_validation,val_padded_input_hindi],val_padded_output_hindi),\n",
    "          verbose = True,\n",
    "          batch_size = 64)"
   ]
  },
  {
   "cell_type": "code",
   "execution_count": null,
   "metadata": {
    "id": "7k2SKj00NyGq"
   },
   "outputs": [],
   "source": [
    "model.save_weights(\"model_weights_after_12_epochs.h5\")"
   ]
  },
  {
   "cell_type": "code",
   "execution_count": null,
   "metadata": {
    "id": "Yl4RJ-LwNyKG"
   },
   "outputs": [],
   "source": [
    "!cp \"model_weights_after_12_epochs.h5\" \"/content/drive/MyDrive/1. My_folder/2. AI Projects./4. Machine Translation Project\""
   ]
  },
  {
   "cell_type": "code",
   "execution_count": null,
   "metadata": {
    "colab": {
     "base_uri": "https://localhost:8080/"
    },
    "id": "BJNXR_s6ubvX",
    "outputId": "04ff83e7-569f-4a4d-93f5-7a32f1a586ec"
   },
   "outputs": [
    {
     "name": "stdout",
     "output_type": "stream",
     "text": [
      "Epoch 1/2\n",
      "3319/3319 [==============================] - 1449s 437ms/step - loss: 0.6411 - val_loss: 1.4224\n",
      "Epoch 2/2\n",
      "3319/3319 [==============================] - 1446s 436ms/step - loss: 0.6156 - val_loss: 1.4399\n"
     ]
    },
    {
     "data": {
      "text/plain": [
       "<tensorflow.python.keras.callbacks.History at 0x7f13b31753d0>"
      ]
     },
     "execution_count": 49,
     "metadata": {
      "tags": []
     },
     "output_type": "execute_result"
    }
   ],
   "source": [
    "model.fit([padded_english_train, padded_input_hindi], padded_output_hindi ,\n",
    "          epochs = 2,\n",
    "          validation_data = ([padded_english_validation,val_padded_input_hindi],val_padded_output_hindi),\n",
    "          verbose = True,\n",
    "          batch_size = 64)"
   ]
  },
  {
   "cell_type": "code",
   "execution_count": null,
   "metadata": {
    "id": "7jDVaFfiubyN"
   },
   "outputs": [],
   "source": [
    "model.save_weights(\"model_weights_after_14_epochs.h5\")"
   ]
  },
  {
   "cell_type": "code",
   "execution_count": null,
   "metadata": {
    "id": "28uZwOB8ub1l"
   },
   "outputs": [],
   "source": [
    "!cp \"model_weights_after_14_epochs.h5\" \"/content/drive/MyDrive/1. My_folder/2. AI Projects./4. Machine Translation Project\""
   ]
  },
  {
   "cell_type": "code",
   "execution_count": null,
   "metadata": {
    "colab": {
     "base_uri": "https://localhost:8080/"
    },
    "id": "3J5tTwvoub4I",
    "outputId": "e5e9d78d-6f84-40cb-da48-c8a9828561e0"
   },
   "outputs": [
    {
     "name": "stdout",
     "output_type": "stream",
     "text": [
      "Epoch 1/2\n",
      "3319/3319 [==============================] - 1445s 435ms/step - loss: 0.5926 - val_loss: 1.4600\n",
      "Epoch 2/2\n",
      "3319/3319 [==============================] - 1441s 434ms/step - loss: 0.5720 - val_loss: 1.4780\n"
     ]
    },
    {
     "data": {
      "text/plain": [
       "<tensorflow.python.keras.callbacks.History at 0x7f13b29c5ad0>"
      ]
     },
     "execution_count": 52,
     "metadata": {
      "tags": []
     },
     "output_type": "execute_result"
    }
   ],
   "source": [
    "model.fit([padded_english_train, padded_input_hindi], padded_output_hindi ,\n",
    "          epochs = 2,\n",
    "          validation_data = ([padded_english_validation,val_padded_input_hindi],val_padded_output_hindi),\n",
    "          verbose = True,\n",
    "          batch_size = 64)"
   ]
  },
  {
   "cell_type": "code",
   "execution_count": null,
   "metadata": {
    "id": "LcXgEa6kur64"
   },
   "outputs": [],
   "source": [
    "model.save_weights(\"model_weights_after_16_epochs.h5\")"
   ]
  },
  {
   "cell_type": "code",
   "execution_count": null,
   "metadata": {
    "id": "QnnsrJrIur9v"
   },
   "outputs": [],
   "source": [
    "!cp \"model_weights_after_16_epochs.h5\" \"/content/drive/MyDrive/1. My_folder/2. AI Projects./4. Machine Translation Project\""
   ]
  },
  {
   "cell_type": "markdown",
   "metadata": {
    "id": "8qd1qbwaub9u"
   },
   "source": [
    "### <font color='Green'>** Combing Whole data piple line in one function \"translate_it_to_hindi\" ** </font>"
   ]
  },
  {
   "cell_type": "code",
   "execution_count": 61,
   "metadata": {
    "id": "Lxz1IffbucBK"
   },
   "outputs": [],
   "source": [
    "def translate_it_to_hindi(model, input_sentence):\n",
    "    predicted_word =''\n",
    "    output_sentence =''\n",
    "    seq    = tknizer_eng.texts_to_sequences([input_sentence])\n",
    "    tokens = pad_sequences(seq, maxlen=40, dtype='int32', padding='post')\n",
    "    initial_state = model.layers[0].initialize_states(1024)\n",
    "    encoder_outputs, final_state_h, final_state_c = model.layers[0](tokens,initial_state)\n",
    "    input  = np.array([[1]],dtype=np.int32)\n",
    "    states = [final_state_h,final_state_c]\n",
    "    while(predicted_word!='<end>'):\n",
    "        decoder_output,decoder_state_h,decoder_state_c = model.layers[1](input, initial_states=states)\n",
    "        output = model.layers[2](decoder_output)\n",
    "        states = [decoder_state_h,decoder_state_c]\n",
    "        output_word_index = np.argmax(output[0],axis=1)\n",
    "        #print(output_word_index)\n",
    "        #predicted_word = tknizer_hindi.index_word[output_word_index[0]]\n",
    "        predicted_word = tknizer_hindi.index_word[output_word_index[0]]\n",
    "        input = tknizer_hindi.word_index[predicted_word]\n",
    "        input = np.array([[input]],dtype=np.int32)\n",
    "        if (predicted_word!='<end>'):\n",
    "            output_sentence+=predicted_word+\" \"\n",
    "        else:\n",
    "            output_sentence+=predicted_word\n",
    "    return output_sentence"
   ]
  },
  {
   "cell_type": "markdown",
   "metadata": {
    "id": "L_or460JPTsR"
   },
   "source": [
    "###### <font color='purple'>** Translating some sentences by our model from the dataset itself :** </font>"
   ]
  },
  {
   "cell_type": "code",
   "execution_count": 77,
   "metadata": {
    "colab": {
     "base_uri": "https://localhost:8080/"
    },
    "id": "06OOfXsnNuUs",
    "outputId": "ab3ecd02-4477-4c0c-8750-5a6fdac3a6a9"
   },
   "outputs": [
    {
     "name": "stdout",
     "output_type": "stream",
     "text": [
      "------------------------------------------------------------------------------------------------------------------------\n",
      "Original english_sentence Sentence is : announce to the hypocrites that they shall have a painful chastisement\n",
      "------------------------------------------------------------------------------------------------------------------------\n",
      "Origianl original_hindi_sentence Sentece is : मुनाफ़िको (कपटाचारियों) को मंगल-सूचना दे दो कि उनके लिए दुखद यातना है;  <end>\n",
      "------------------------------------------------------------------------------------------------------------------------\n",
      "Translated translated_sen_by_model By Model is : मुनाफ़िको कपटाचारियों को मंगल सूचना दे दो कि उनके लिए दुखद यातना है <end>\n"
     ]
    }
   ],
   "source": [
    "hindi_eng_dataset = pd.read_csv(r\"/content/drive/MyDrive/Machine_translation_Project/4. Machine Translation Project/hindi_eng_dataset_preprocessed_sample.csv\")\n",
    "data_point = hindi_eng_dataset.iloc[0]\n",
    "english_sentence = str(data_point[\"eng_sentences\"])\n",
    "original_hindi_sentence = data_point[\"hindi_out\"]\n",
    "translated_sen_by_model = translate_it_to_hindi(model,english_sentence)\n",
    "print(\"-\"*120)\n",
    "print(\"Original english_sentence Sentence is :\",english_sentence)\n",
    "print(\"-\"*120)\n",
    "print(\"Origianl original_hindi_sentence Sentece is :\",original_hindi_sentence)\n",
    "print(\"-\"*120)\n",
    "print(\"Translated translated_sen_by_model By Model is :\",translated_sen_by_model)"
   ]
  },
  {
   "cell_type": "code",
   "execution_count": 78,
   "metadata": {
    "colab": {
     "base_uri": "https://localhost:8080/"
    },
    "id": "IHFP8SO9Ou97",
    "outputId": "7f537835-ab72-4f98-c5c0-f65196d4dfaa"
   },
   "outputs": [
    {
     "name": "stdout",
     "output_type": "stream",
     "text": [
      "------------------------------------------------------------------------------------------------------------------------\n",
      "Original english_sentence Sentence is : primitively\n",
      "------------------------------------------------------------------------------------------------------------------------\n",
      "Origianl original_hindi_sentence Sentece is : मूलतः <end>\n",
      "------------------------------------------------------------------------------------------------------------------------\n",
      "Translated translated_sen_by_model By Model is : मूलतः <end>\n"
     ]
    }
   ],
   "source": [
    "data_point = hindi_eng_dataset.iloc[100]\n",
    "english_sentence = str(data_point[\"eng_sentences\"])\n",
    "original_hindi_sentence = data_point[\"hindi_out\"]\n",
    "translated_sen_by_model = translate_it_to_hindi(model,english_sentence)\n",
    "print(\"-\"*120)\n",
    "print(\"Original english_sentence Sentence is :\",english_sentence)\n",
    "print(\"-\"*120)\n",
    "print(\"Origianl original_hindi_sentence Sentece is :\",original_hindi_sentence)\n",
    "print(\"-\"*120)\n",
    "print(\"Translated translated_sen_by_model By Model is :\",translated_sen_by_model)"
   ]
  },
  {
   "cell_type": "code",
   "execution_count": 84,
   "metadata": {
    "colab": {
     "base_uri": "https://localhost:8080/"
    },
    "id": "P-KSAB0wO9Fb",
    "outputId": "e4bd0013-8942-4f3e-a96f-18eaa714e537"
   },
   "outputs": [
    {
     "name": "stdout",
     "output_type": "stream",
     "text": [
      "------------------------------------------------------------------------------------------------------------------------\n",
      "Original english_sentence Sentence is : housing scheme for scheduled castes and denotified tribes external website that opens in a new window\n",
      "------------------------------------------------------------------------------------------------------------------------\n",
      "Origianl original_hindi_sentence Sentece is : अनुसूचित जातियों और अधिसूचित जनजातियों के लिए आवास योजना (बाहरी वेबसाइट जो एक नई विंडों में खुलती हैं)  <end>\n",
      "------------------------------------------------------------------------------------------------------------------------\n",
      "Translated translated_sen_by_model By Model is : अनुसूचित जातियों और अनुसूचित जनजातियों के लिए आवास क्षेत्र एवं आवास केन्द्र द्वारा गठित एक समिति <end>\n"
     ]
    }
   ],
   "source": [
    "data_point = hindi_eng_dataset.iloc[500]\n",
    "english_sentence = str(data_point[\"eng_sentences\"])\n",
    "original_hindi_sentence = data_point[\"hindi_out\"]\n",
    "translated_sen_by_model = translate_it_to_hindi(model,english_sentence)\n",
    "print(\"-\"*120)\n",
    "print(\"Original english_sentence Sentence is :\",english_sentence)\n",
    "print(\"-\"*120)\n",
    "print(\"Origianl original_hindi_sentence Sentece is :\",original_hindi_sentence)\n",
    "print(\"-\"*120)\n",
    "print(\"Translated translated_sen_by_model By Model is :\",translated_sen_by_model)"
   ]
  },
  {
   "cell_type": "markdown",
   "metadata": {
    "id": "DNO1jTI6P2Rc"
   },
   "source": [
    "###### <font color='purple'>** Translating some general sentences :** </font>"
   ]
  },
  {
   "cell_type": "code",
   "execution_count": 85,
   "metadata": {
    "colab": {
     "base_uri": "https://localhost:8080/"
    },
    "id": "2jOYeWxHPA60",
    "outputId": "1f5821f7-b16e-4afe-9dbc-d5f56c683ff4"
   },
   "outputs": [
    {
     "name": "stdout",
     "output_type": "stream",
     "text": [
      "------------------------------------------------------------------------------------------------------------------------\n",
      "Original english_sentence Sentence is : I love my Mom.\n",
      "------------------------------------------------------------------------------------------------------------------------\n",
      "Translated translated_sen_by_model By Model is : मैं माँ को प्यार चाहता हूँ। <end>\n"
     ]
    }
   ],
   "source": [
    "english_sentence = str(\"I love my Mom.\")\n",
    "translated_sen_by_model = translate_it_to_hindi(model,english_sentence)\n",
    "print(\"-\"*120)\n",
    "print(\"Original english_sentence Sentence is :\",english_sentence)\n",
    "print(\"-\"*120)\n",
    "print(\"Translated translated_sen_by_model By Model is :\",translated_sen_by_model)"
   ]
  },
  {
   "cell_type": "code",
   "execution_count": 86,
   "metadata": {
    "colab": {
     "base_uri": "https://localhost:8080/"
    },
    "id": "MF-7B_qbPV09",
    "outputId": "b9badc55-41b7-4a01-c56f-4a8579e05813"
   },
   "outputs": [
    {
     "name": "stdout",
     "output_type": "stream",
     "text": [
      "------------------------------------------------------------------------------------------------------------------------\n",
      "Original english_sentence Sentence is : it is popular.\n",
      "------------------------------------------------------------------------------------------------------------------------\n",
      "Translated translated_sen_by_model By Model is : काफ़ी लोकप्रिय है। <end>\n"
     ]
    }
   ],
   "source": [
    "english_sentence = str(\"it is very popular.\")\n",
    "translated_sen_by_model = translate_it_to_hindi(model,english_sentence)\n",
    "print(\"-\"*120)\n",
    "print(\"Original english_sentence Sentence is :\",english_sentence)\n",
    "print(\"-\"*120)\n",
    "print(\"Translated translated_sen_by_model By Model is :\",translated_sen_by_model)"
   ]
  },
  {
   "cell_type": "code",
   "execution_count": 87,
   "metadata": {
    "colab": {
     "base_uri": "https://localhost:8080/"
    },
    "id": "IfCmWrYhPV3y",
    "outputId": "9f7f28b0-b6e2-4e74-c6c4-1ad0fbdeb363"
   },
   "outputs": [
    {
     "name": "stdout",
     "output_type": "stream",
     "text": [
      "------------------------------------------------------------------------------------------------------------------------\n",
      "Original english_sentence Sentence is : India is a big country\n",
      "------------------------------------------------------------------------------------------------------------------------\n",
      "Translated translated_sen_by_model By Model is : भारत देश का एक बड़ा देश है। <end>\n"
     ]
    }
   ],
   "source": [
    "english_sentence = str(\"India is a big country\")\n",
    "translated_sen_by_model = translate_it_to_hindi(model,english_sentence)\n",
    "print(\"-\"*120)\n",
    "print(\"Original english_sentence Sentence is :\",english_sentence)\n",
    "print(\"-\"*120)\n",
    "print(\"Translated translated_sen_by_model By Model is :\",translated_sen_by_model)"
   ]
  },
  {
   "cell_type": "code",
   "execution_count": 90,
   "metadata": {
    "colab": {
     "base_uri": "https://localhost:8080/"
    },
    "id": "lZD2-VPHPV6b",
    "outputId": "048a7bb8-ab98-43bc-88b0-4ec300fc659f"
   },
   "outputs": [
    {
     "name": "stdout",
     "output_type": "stream",
     "text": [
      "------------------------------------------------------------------------------------------------------------------------\n",
      "Original english_sentence Sentence is : today is my day\n",
      "------------------------------------------------------------------------------------------------------------------------\n",
      "Translated translated_sen_by_model By Model is : आज आज सुबह <end>\n"
     ]
    }
   ],
   "source": [
    "english_sentence = str(\"today is my day\")\n",
    "translated_sen_by_model = translate_it_to_hindi(model,english_sentence)\n",
    "print(\"-\"*120)\n",
    "print(\"Original english_sentence Sentence is :\",english_sentence)\n",
    "print(\"-\"*120)\n",
    "print(\"Translated translated_sen_by_model By Model is :\",translated_sen_by_model)"
   ]
  },
  {
   "cell_type": "markdown",
   "metadata": {},
   "source": [
    "### <font color='purple'>** Thank You..!! :)  ** </font>"
   ]
  }
 ],
 "metadata": {
  "accelerator": "GPU",
  "colab": {
   "collapsed_sections": [],
   "name": "colab_machine_traslation_Project.ipynb",
   "provenance": []
  },
  "kernelspec": {
   "display_name": "Python 3",
   "language": "python",
   "name": "python3"
  },
  "language_info": {
   "codemirror_mode": {
    "name": "ipython",
    "version": 3
   },
   "file_extension": ".py",
   "mimetype": "text/x-python",
   "name": "python",
   "nbconvert_exporter": "python",
   "pygments_lexer": "ipython3",
   "version": "3.7.6"
  },
  "widgets": {
   "application/vnd.jupyter.widget-state+json": {
    "08e06420654b4b0291fbb3775fe8ed58": {
     "model_module": "@jupyter-widgets/base",
     "model_name": "LayoutModel",
     "state": {
      "_model_module": "@jupyter-widgets/base",
      "_model_module_version": "1.2.0",
      "_model_name": "LayoutModel",
      "_view_count": null,
      "_view_module": "@jupyter-widgets/base",
      "_view_module_version": "1.2.0",
      "_view_name": "LayoutView",
      "align_content": null,
      "align_items": null,
      "align_self": null,
      "border": null,
      "bottom": null,
      "display": null,
      "flex": null,
      "flex_flow": null,
      "grid_area": null,
      "grid_auto_columns": null,
      "grid_auto_flow": null,
      "grid_auto_rows": null,
      "grid_column": null,
      "grid_gap": null,
      "grid_row": null,
      "grid_template_areas": null,
      "grid_template_columns": null,
      "grid_template_rows": null,
      "height": null,
      "justify_content": null,
      "justify_items": null,
      "left": null,
      "margin": null,
      "max_height": null,
      "max_width": null,
      "min_height": null,
      "min_width": null,
      "object_fit": null,
      "object_position": null,
      "order": null,
      "overflow": null,
      "overflow_x": null,
      "overflow_y": null,
      "padding": null,
      "right": null,
      "top": null,
      "visibility": null,
      "width": null
     }
    },
    "28ddb8b5f3e947deaf8bfc2d9831010b": {
     "model_module": "@jupyter-widgets/controls",
     "model_name": "FloatProgressModel",
     "state": {
      "_dom_classes": [],
      "_model_module": "@jupyter-widgets/controls",
      "_model_module_version": "1.5.0",
      "_model_name": "FloatProgressModel",
      "_view_count": null,
      "_view_module": "@jupyter-widgets/controls",
      "_view_module_version": "1.5.0",
      "_view_name": "ProgressView",
      "bar_style": "success",
      "description": "100%",
      "description_tooltip": null,
      "layout": "IPY_MODEL_c8515851a1ee4ceeae6497ec93beb436",
      "max": 500000,
      "min": 0,
      "orientation": "horizontal",
      "style": "IPY_MODEL_62f365214fdf4ebdbb0cb6b843e16ada",
      "value": 500000
     }
    },
    "37c459fec7e849a2b7f60a38b8fca797": {
     "model_module": "@jupyter-widgets/controls",
     "model_name": "DescriptionStyleModel",
     "state": {
      "_model_module": "@jupyter-widgets/controls",
      "_model_module_version": "1.5.0",
      "_model_name": "DescriptionStyleModel",
      "_view_count": null,
      "_view_module": "@jupyter-widgets/base",
      "_view_module_version": "1.2.0",
      "_view_name": "StyleView",
      "description_width": ""
     }
    },
    "62f365214fdf4ebdbb0cb6b843e16ada": {
     "model_module": "@jupyter-widgets/controls",
     "model_name": "ProgressStyleModel",
     "state": {
      "_model_module": "@jupyter-widgets/controls",
      "_model_module_version": "1.5.0",
      "_model_name": "ProgressStyleModel",
      "_view_count": null,
      "_view_module": "@jupyter-widgets/base",
      "_view_module_version": "1.2.0",
      "_view_name": "StyleView",
      "bar_color": null,
      "description_width": "initial"
     }
    },
    "6e4664d5de9644048ee31572f8c3b4bb": {
     "model_module": "@jupyter-widgets/controls",
     "model_name": "HTMLModel",
     "state": {
      "_dom_classes": [],
      "_model_module": "@jupyter-widgets/controls",
      "_model_module_version": "1.5.0",
      "_model_name": "HTMLModel",
      "_view_count": null,
      "_view_module": "@jupyter-widgets/controls",
      "_view_module_version": "1.5.0",
      "_view_name": "HTMLView",
      "description": "",
      "description_tooltip": null,
      "layout": "IPY_MODEL_08e06420654b4b0291fbb3775fe8ed58",
      "placeholder": "​",
      "style": "IPY_MODEL_37c459fec7e849a2b7f60a38b8fca797",
      "value": " 500000/500000 [6:13:48&lt;00:00, 22.29it/s]"
     }
    },
    "7aaeb10466b3428cb50f32057be367c2": {
     "model_module": "@jupyter-widgets/base",
     "model_name": "LayoutModel",
     "state": {
      "_model_module": "@jupyter-widgets/base",
      "_model_module_version": "1.2.0",
      "_model_name": "LayoutModel",
      "_view_count": null,
      "_view_module": "@jupyter-widgets/base",
      "_view_module_version": "1.2.0",
      "_view_name": "LayoutView",
      "align_content": null,
      "align_items": null,
      "align_self": null,
      "border": null,
      "bottom": null,
      "display": null,
      "flex": null,
      "flex_flow": null,
      "grid_area": null,
      "grid_auto_columns": null,
      "grid_auto_flow": null,
      "grid_auto_rows": null,
      "grid_column": null,
      "grid_gap": null,
      "grid_row": null,
      "grid_template_areas": null,
      "grid_template_columns": null,
      "grid_template_rows": null,
      "height": null,
      "justify_content": null,
      "justify_items": null,
      "left": null,
      "margin": null,
      "max_height": null,
      "max_width": null,
      "min_height": null,
      "min_width": null,
      "object_fit": null,
      "object_position": null,
      "order": null,
      "overflow": null,
      "overflow_x": null,
      "overflow_y": null,
      "padding": null,
      "right": null,
      "top": null,
      "visibility": null,
      "width": null
     }
    },
    "8b69910c1e3948c5b2d5a37f71dd8e09": {
     "model_module": "@jupyter-widgets/controls",
     "model_name": "HBoxModel",
     "state": {
      "_dom_classes": [],
      "_model_module": "@jupyter-widgets/controls",
      "_model_module_version": "1.5.0",
      "_model_name": "HBoxModel",
      "_view_count": null,
      "_view_module": "@jupyter-widgets/controls",
      "_view_module_version": "1.5.0",
      "_view_name": "HBoxView",
      "box_style": "",
      "children": [
       "IPY_MODEL_28ddb8b5f3e947deaf8bfc2d9831010b",
       "IPY_MODEL_6e4664d5de9644048ee31572f8c3b4bb"
      ],
      "layout": "IPY_MODEL_7aaeb10466b3428cb50f32057be367c2"
     }
    },
    "c8515851a1ee4ceeae6497ec93beb436": {
     "model_module": "@jupyter-widgets/base",
     "model_name": "LayoutModel",
     "state": {
      "_model_module": "@jupyter-widgets/base",
      "_model_module_version": "1.2.0",
      "_model_name": "LayoutModel",
      "_view_count": null,
      "_view_module": "@jupyter-widgets/base",
      "_view_module_version": "1.2.0",
      "_view_name": "LayoutView",
      "align_content": null,
      "align_items": null,
      "align_self": null,
      "border": null,
      "bottom": null,
      "display": null,
      "flex": null,
      "flex_flow": null,
      "grid_area": null,
      "grid_auto_columns": null,
      "grid_auto_flow": null,
      "grid_auto_rows": null,
      "grid_column": null,
      "grid_gap": null,
      "grid_row": null,
      "grid_template_areas": null,
      "grid_template_columns": null,
      "grid_template_rows": null,
      "height": null,
      "justify_content": null,
      "justify_items": null,
      "left": null,
      "margin": null,
      "max_height": null,
      "max_width": null,
      "min_height": null,
      "min_width": null,
      "object_fit": null,
      "object_position": null,
      "order": null,
      "overflow": null,
      "overflow_x": null,
      "overflow_y": null,
      "padding": null,
      "right": null,
      "top": null,
      "visibility": null,
      "width": null
     }
    }
   }
  }
 },
 "nbformat": 4,
 "nbformat_minor": 1
}
